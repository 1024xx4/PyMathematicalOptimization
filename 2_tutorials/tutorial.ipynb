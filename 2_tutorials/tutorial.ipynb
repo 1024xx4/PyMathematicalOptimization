{
 "cells": [
  {
   "cell_type": "markdown",
   "source": [
    "## 連立一次方程式を Python の数理最適化 Libray で解く"
   ],
   "metadata": {
    "collapsed": false,
    "pycharm": {
     "name": "#%% md\n"
    }
   }
  },
  {
   "cell_type": "code",
   "execution_count": 7,
   "outputs": [
    {
     "name": "stdout",
     "output_type": "stream",
     "text": [
      "Status: Optimal\n",
      "x= 2.0 y= 8.0\n"
     ]
    }
   ],
   "source": [
    "import pandas as pd\n",
    "import pulp  # PuLP library の取り込み\n",
    "\n",
    "problem = pulp.LpProblem('SLE', pulp.LpMaximize)  # 数理 Model の定義。第１引数は任意の名前。第２引数は、最大化問題を解く、という指定（※今回は最大化問題を解いているわけではないのでおまじないに近い）\n",
    "\n",
    "x = pulp.LpVariable('x', cat='Continuous')  # 変数 x を定義。pulp.LaVariable('任意の名前', cat='変数が連続変数、つまり実現値をとることを指定')\n",
    "y = pulp.LpVariable('y', cat='Continuous')  # 変数 y を定義。pulp.LaVariable('任意の名前', cat='変数が連続変数、つまり実現値をとることを指定')\n",
    "\n",
    "problem += 120 * x + 150 * y == 1440  # 連立一次方程式を定義\n",
    "problem += x + y == 10  # 連立一次方程式を定義\n",
    "\n",
    "status = problem.solve()  # 定義した数理 Model を解く。解けたか解けなかったの情報を返す\n",
    "\n",
    "print('Status:', pulp.LpStatus[status])  # 最適化計算をした結果を表示\n",
    "print('x=', x.value(), 'y=', y.value())  # x, y 計算結果の値を表示"
   ],
   "metadata": {
    "collapsed": false,
    "pycharm": {
     "name": "#%%\n"
    }
   }
  },
  {
   "cell_type": "markdown",
   "source": [
    "## 線形化問題を Python の数理最適化 Libray で解く\n",
    "\n",
    "ある工場では製品 *p* と *q* を製造しています。製品 *p* と *q* を製造するには原料 *m* と *n* が必要で、次のことがわかっています。\n",
    "- 製品 *p* を 1kg 製造するには原料 *m* が 1kg、原料 *n* が 2kg 必要である。\n",
    "- 製品 *q* を 1kg 製造するには原料 *m* が 3kg、原料 *n* が 1kg 必要である。\n",
    "- 原料 *m* の在庫は 30kg、原料 *n* の在庫は 40kg である。\n",
    "- 単位量あたりの利得は、製品 *p* は１万円、製品 *q* は２万円である。\n",
    "\n",
    "この条件で利得を最大にするためには、製品 *p* と *q* をそれぞれ何 kg 製造すればよいでしょうか。"
   ],
   "metadata": {
    "collapsed": false,
    "pycharm": {
     "name": "#%% md\n"
    }
   }
  },
  {
   "cell_type": "code",
   "execution_count": 8,
   "outputs": [
    {
     "name": "stdout",
     "output_type": "stream",
     "text": [
      "Status: Optimal\n",
      "x= 18.0 y= 4.0 obj= 26.0\n"
     ]
    }
   ],
   "source": [
    "problem = pulp.LpProblem('LP', pulp.LpMaximize)  # PuLP の取り込み\n",
    "\n",
    "x = pulp.LpVariable('x', cat='Continuous')  # 変数x をpulp.LpVariable('任意の名前', cat='連続変数、つまり実現値をとることを指定')\n",
    "y = pulp.LpVariable('y', cat='Continuous')  # 変数y をpulp.LpVariable('任意の名前', cat='連続変数、つまり実現値をとることを指定')\n",
    "\n",
    "problem += 1*x + 3*y <= 30  # 線形問題の条件式を定義\n",
    "problem += 2*x + 1*y <= 40  # 線形問題の条件式を定義\n",
    "problem += x >= 0  # 線形問題の条件式を定義\n",
    "problem += y >= 0  # 線形問題の条件式を定義\n",
    "\n",
    "problem += x + 2*y  # 数理 Model: problem の目的関数を定義\n",
    "# LpProblem() は、+= 演算子の右辺が制約であれば制約式を追加し、関数であれば目的関数を追加する\n",
    "\n",
    "status = problem.solve()  # 定義した数理 Model を解く\n",
    "\n",
    "print('Status:', pulp.LpStatus[status])  # 解けたか解けなかったか結果を表示\n",
    "print('x=', x.value(), 'y=', y.value(), 'obj=', problem.objective.value())  # x, y と最大化しようとした利得の関数値を表示"
   ],
   "metadata": {
    "collapsed": false,
    "pycharm": {
     "name": "#%%\n"
    }
   }
  },
  {
   "cell_type": "markdown",
   "source": [
    "線形計画課問題を解いた結果\n",
    "- 製品 *p* を 18kg\n",
    "- 製品 *q* を 4kg\n",
    "\n",
    "生産すると利得が最大になることがわかった。"
   ],
   "metadata": {
    "collapsed": false,
    "pycharm": {
     "name": "#%% md\n"
    }
   }
  },
  {
   "cell_type": "markdown",
   "source": [
    "## 規模の大きな数理最適化問題を Python の Library で解く"
   ],
   "metadata": {
    "collapsed": false,
    "pycharm": {
     "name": "#%% md\n"
    }
   }
  },
  {
   "cell_type": "markdown",
   "source": [
    "### 【問題】\n",
    "ある工場では製品 *p1*, *p2*, *p3*, *p4* の４種類を製造しています。\n",
    "製品 *p1*, *p2*, *p3*, *p4* の製造には、原料 *m1*, *m2*, *m3*, の３種類が必要です。\n",
    "また、その量は File「requires.csv」に記述されています。"
   ],
   "metadata": {
    "collapsed": false,
    "pycharm": {
     "name": "#%% md\n"
    }
   }
  },
  {
   "cell_type": "code",
   "execution_count": 9,
   "outputs": [
    {
     "name": "stdout",
     "output_type": "stream",
     "text": [
      "p,m,require\n",
      "p1,m1,2\n",
      "p1,m2,0\n",
      "p1,m3,1\n",
      "p2,m1,3\n",
      "p2,m2,2\n",
      "p2,m3,0\n",
      "p3,m1,0\n",
      "p3,m2,2\n",
      "p3,m3,2\n",
      "p4,m1,2\n",
      "p4,m2,2\n",
      "p4,m3,2\n"
     ]
    }
   ],
   "source": [
    "!type requires.csv"
   ],
   "metadata": {
    "collapsed": false,
    "pycharm": {
     "name": "#%%\n"
    }
   }
  },
  {
   "cell_type": "markdown",
   "source": [
    "本Data の２～４行目は、製品 *p1* を 1kg 製造するには原料 *m1* が 2kg, 原料 *m2* が 0kg、、原料 *m3* が1kg 必要であることを表しています。\n",
    "また、原料  *m1*, *m2*, *m3* の在庫は stocks.csv に記述されています。"
   ],
   "metadata": {
    "collapsed": false,
    "pycharm": {
     "name": "#%% md\n"
    }
   }
  },
  {
   "cell_type": "code",
   "execution_count": 10,
   "outputs": [
    {
     "name": "stdout",
     "output_type": "stream",
     "text": [
      "m,stock\n",
      "m1,35\n",
      "m2,22\n",
      "m3,27\n"
     ]
    }
   ],
   "source": [
    "!type stocks.csv"
   ],
   "metadata": {
    "collapsed": false,
    "pycharm": {
     "name": "#%%\n"
    }
   }
  },
  {
   "cell_type": "markdown",
   "source": [
    "本Data の２行目は、原料 *m1* の在庫は 35kg であることを表しています。\n",
    "最後に、製品 *p1*, *p2*, *p3*, *p4* を精算した際の利得は gains.csv に記述されています。"
   ],
   "metadata": {
    "collapsed": false,
    "pycharm": {
     "name": "#%% md\n"
    }
   }
  },
  {
   "cell_type": "code",
   "execution_count": 11,
   "outputs": [
    {
     "name": "stdout",
     "output_type": "stream",
     "text": [
      "p,gain\n",
      "p1,3\n",
      "p2,4\n",
      "p3,4\n",
      "p4,5\n"
     ]
    }
   ],
   "source": [
    "!type gains.csv"
   ],
   "metadata": {
    "collapsed": false,
    "pycharm": {
     "name": "#%%\n"
    }
   }
  },
  {
   "cell_type": "markdown",
   "source": [
    "本Data の２行目の Data は、製品 *p1* の利得は、３万円であることを表しています。\n",
    "このとき、利得を最大にするためには、製品 *p1*, *p2*, *p3*, *p4*, をそれぞれ何kg 製造すればよいでしょうか。"
   ],
   "metadata": {
    "collapsed": false,
    "pycharm": {
     "name": "#%% md\n"
    }
   }
  },
  {
   "cell_type": "markdown",
   "source": [
    "### この線形計画問題の数理 Modeling\n",
    "- List\n",
    "- 定数\n",
    "- 変数\n",
    "\n",
    "を準備する。そのうえで\n",
    "\n",
    "- 制約式\n",
    "- 目的関数\n",
    "\n",
    "を定める。"
   ],
   "metadata": {
    "collapsed": false,
    "pycharm": {
     "name": "#%% md\n"
    }
   }
  },
  {
   "cell_type": "markdown",
   "source": [
    "数理 Model を関数として捉えると\n",
    "\n",
    "| 要素       | 対応             |\n",
    "|----------|----------------|\n",
    "| List と定数 | 入力に対応。         |\n",
    "| 変数       | 出力（決定したい対象）に対応 |\n",
    "| 制約式と目的関数 | 関数定義に当たる       |"
   ],
   "metadata": {
    "collapsed": false,
    "pycharm": {
     "name": "#%% md\n"
    }
   }
  },
  {
   "cell_type": "code",
   "execution_count": 12,
   "outputs": [],
   "source": [
    "# 必要な Libray の import\n",
    "import pandas as pd\n",
    "import pulp\n",
    "from IPython.display import display"
   ],
   "metadata": {
    "collapsed": false,
    "pycharm": {
     "name": "#%%\n"
    }
   }
  },
  {
   "cell_type": "code",
   "execution_count": 13,
   "outputs": [
    {
     "data": {
      "text/plain": "    m  stock\n0  m1     35\n1  m2     22\n2  m3     27",
      "text/html": "<div>\n<style scoped>\n    .dataframe tbody tr th:only-of-type {\n        vertical-align: middle;\n    }\n\n    .dataframe tbody tr th {\n        vertical-align: top;\n    }\n\n    .dataframe thead th {\n        text-align: right;\n    }\n</style>\n<table border=\"1\" class=\"dataframe\">\n  <thead>\n    <tr style=\"text-align: right;\">\n      <th></th>\n      <th>m</th>\n      <th>stock</th>\n    </tr>\n  </thead>\n  <tbody>\n    <tr>\n      <th>0</th>\n      <td>m1</td>\n      <td>35</td>\n    </tr>\n    <tr>\n      <th>1</th>\n      <td>m2</td>\n      <td>22</td>\n    </tr>\n    <tr>\n      <th>2</th>\n      <td>m3</td>\n      <td>27</td>\n    </tr>\n  </tbody>\n</table>\n</div>"
     },
     "metadata": {},
     "output_type": "display_data"
    },
    {
     "data": {
      "text/plain": "     p   m  require\n0   p1  m1        2\n1   p1  m2        0\n2   p1  m3        1\n3   p2  m1        3\n4   p2  m2        2\n5   p2  m3        0\n6   p3  m1        0\n7   p3  m2        2\n8   p3  m3        2\n9   p4  m1        2\n10  p4  m2        2\n11  p4  m3        2",
      "text/html": "<div>\n<style scoped>\n    .dataframe tbody tr th:only-of-type {\n        vertical-align: middle;\n    }\n\n    .dataframe tbody tr th {\n        vertical-align: top;\n    }\n\n    .dataframe thead th {\n        text-align: right;\n    }\n</style>\n<table border=\"1\" class=\"dataframe\">\n  <thead>\n    <tr style=\"text-align: right;\">\n      <th></th>\n      <th>p</th>\n      <th>m</th>\n      <th>require</th>\n    </tr>\n  </thead>\n  <tbody>\n    <tr>\n      <th>0</th>\n      <td>p1</td>\n      <td>m1</td>\n      <td>2</td>\n    </tr>\n    <tr>\n      <th>1</th>\n      <td>p1</td>\n      <td>m2</td>\n      <td>0</td>\n    </tr>\n    <tr>\n      <th>2</th>\n      <td>p1</td>\n      <td>m3</td>\n      <td>1</td>\n    </tr>\n    <tr>\n      <th>3</th>\n      <td>p2</td>\n      <td>m1</td>\n      <td>3</td>\n    </tr>\n    <tr>\n      <th>4</th>\n      <td>p2</td>\n      <td>m2</td>\n      <td>2</td>\n    </tr>\n    <tr>\n      <th>5</th>\n      <td>p2</td>\n      <td>m3</td>\n      <td>0</td>\n    </tr>\n    <tr>\n      <th>6</th>\n      <td>p3</td>\n      <td>m1</td>\n      <td>0</td>\n    </tr>\n    <tr>\n      <th>7</th>\n      <td>p3</td>\n      <td>m2</td>\n      <td>2</td>\n    </tr>\n    <tr>\n      <th>8</th>\n      <td>p3</td>\n      <td>m3</td>\n      <td>2</td>\n    </tr>\n    <tr>\n      <th>9</th>\n      <td>p4</td>\n      <td>m1</td>\n      <td>2</td>\n    </tr>\n    <tr>\n      <th>10</th>\n      <td>p4</td>\n      <td>m2</td>\n      <td>2</td>\n    </tr>\n    <tr>\n      <th>11</th>\n      <td>p4</td>\n      <td>m3</td>\n      <td>2</td>\n    </tr>\n  </tbody>\n</table>\n</div>"
     },
     "metadata": {},
     "output_type": "display_data"
    },
    {
     "data": {
      "text/plain": "    p  gain\n0  p1     3\n1  p2     4\n2  p3     4\n3  p4     5",
      "text/html": "<div>\n<style scoped>\n    .dataframe tbody tr th:only-of-type {\n        vertical-align: middle;\n    }\n\n    .dataframe tbody tr th {\n        vertical-align: top;\n    }\n\n    .dataframe thead th {\n        text-align: right;\n    }\n</style>\n<table border=\"1\" class=\"dataframe\">\n  <thead>\n    <tr style=\"text-align: right;\">\n      <th></th>\n      <th>p</th>\n      <th>gain</th>\n    </tr>\n  </thead>\n  <tbody>\n    <tr>\n      <th>0</th>\n      <td>p1</td>\n      <td>3</td>\n    </tr>\n    <tr>\n      <th>1</th>\n      <td>p2</td>\n      <td>4</td>\n    </tr>\n    <tr>\n      <th>2</th>\n      <td>p3</td>\n      <td>4</td>\n    </tr>\n    <tr>\n      <th>3</th>\n      <td>p4</td>\n      <td>5</td>\n    </tr>\n  </tbody>\n</table>\n</div>"
     },
     "metadata": {},
     "output_type": "display_data"
    }
   ],
   "source": [
    "# Data の 取得\n",
    "stock_df = pd.read_csv('stocks.csv')\n",
    "display(stock_df)\n",
    "require_df = pd.read_csv('requires.csv')\n",
    "display(require_df)\n",
    "gain_df = pd.read_csv('gains.csv')\n",
    "display(gain_df)"
   ],
   "metadata": {
    "collapsed": false,
    "pycharm": {
     "name": "#%%\n"
    }
   }
  },
  {
   "cell_type": "code",
   "execution_count": 14,
   "outputs": [
    {
     "name": "stdout",
     "output_type": "stream",
     "text": [
      "P ['p1', 'p2', 'p3', 'p4']\n",
      "M ['m1', 'm2', 'm3']\n"
     ]
    }
   ],
   "source": [
    "# List の定義\n",
    "P = gain_df['p'].tolist()\n",
    "print('P', P)\n",
    "M = stock_df['m'].tolist()\n",
    "print('M', M)"
   ],
   "metadata": {
    "collapsed": false,
    "pycharm": {
     "name": "#%%\n"
    }
   }
  },
  {
   "cell_type": "markdown",
   "source": [
    "#### List の定義\n",
    "- *P*: 製品の List\n",
    "- *M*: 原料の List\n",
    "\n",
    "*P* は、gain_df から、 *M* は、stock_df から取得する"
   ],
   "metadata": {
    "collapsed": false,
    "pycharm": {
     "name": "#%% md\n"
    }
   }
  },
  {
   "cell_type": "code",
   "execution_count": 15,
   "outputs": [
    {
     "name": "stdout",
     "output_type": "stream",
     "text": [
      "P ['p1', 'p2', 'p3', 'p4']\n",
      "M ['m1', 'm2', 'm3']\n"
     ]
    }
   ],
   "source": [
    "# List の定義\n",
    "P = gain_df['p'].tolist()\n",
    "print('P', P)\n",
    "M = stock_df['m'].tolist()\n",
    "print('M', M)"
   ],
   "metadata": {
    "collapsed": false,
    "pycharm": {
     "name": "#%%\n"
    }
   }
  },
  {
   "cell_type": "markdown",
   "source": [
    "#### 定数の定義\n",
    "- *stock_m* (*m* ∊ *M*): 原料 *m* の在庫量\n",
    "- *require_p,m* (*p* ∊ *P*, *m* ∊ *M*): 製品 *p* を生産するのに必要な原料 *m* の量\n",
    "- *gain_p* (*p* ∊ *P*): 製品 *p* を生産した際の利得\n",
    "\n",
    "それぞれ、stock_df, require_df, gain_df から取得。\n",
    "dict型で作成する"
   ],
   "metadata": {
    "collapsed": false,
    "pycharm": {
     "name": "#%% md\n"
    }
   }
  },
  {
   "cell_type": "code",
   "execution_count": 16,
   "outputs": [
    {
     "name": "stdout",
     "output_type": "stream",
     "text": [
      "stock_m {'m1': 35, 'm2': 22, 'm3': 27}\n",
      "require_p,m {('p1', 'm1'): 2, ('p1', 'm2'): 0, ('p1', 'm3'): 1, ('p2', 'm1'): 3, ('p2', 'm2'): 2, ('p2', 'm3'): 0, ('p3', 'm1'): 0, ('p3', 'm2'): 2, ('p3', 'm3'): 2, ('p4', 'm1'): 2, ('p4', 'm2'): 2, ('p4', 'm3'): 2}\n",
      "gain_p {'p1': 3, 'p2': 4, 'p3': 4, 'p4': 5}\n"
     ]
    }
   ],
   "source": [
    "# 定数の定義\n",
    "stock = {row.m: row.stock for row in stock_df.itertuples()}\n",
    "print('stock_m', stock)\n",
    "require = {(row.p, row.m): row.require for row in require_df.itertuples()}\n",
    "print('require_p,m', require)\n",
    "gain = {row.p: row.gain for row in gain_df.itertuples()}\n",
    "print('gain_p', gain)"
   ],
   "metadata": {
    "collapsed": false,
    "pycharm": {
     "name": "#%%\n"
    }
   }
  },
  {
   "cell_type": "markdown",
   "source": [
    "#### 線形計画問題の定義\n",
    "最大化問題として線形計画課問題を定義する"
   ],
   "metadata": {
    "collapsed": false,
    "pycharm": {
     "name": "#%% md\n"
    }
   }
  },
  {
   "cell_type": "code",
   "execution_count": 17,
   "outputs": [],
   "source": [
    "# 線形計画問題の定義\n",
    "problem = pulp.LpProblem('LP2', pulp.LpMaximize)\n",
    "# 第１引数は任意の名前で問題なし\n",
    "# 第２引数に pulp.LpMaximize を指定することで最大化問題として定義できる"
   ],
   "metadata": {
    "collapsed": false,
    "pycharm": {
     "name": "#%%\n"
    }
   }
  },
  {
   "cell_type": "markdown",
   "source": [
    "#### 変数の定義\n",
    "*x_p(p∊P)* : 製品 *p* の生産量"
   ],
   "metadata": {
    "collapsed": false,
    "pycharm": {
     "name": "#%% md\n"
    }
   }
  },
  {
   "cell_type": "code",
   "execution_count": 18,
   "outputs": [],
   "source": [
    "# 変数の定義\n",
    "x = pulp.LpVariable.dicts('x', P, cat='Continuous')  # pulp.LpVariable.dicts() で変数をまとめて定義できる。"
   ],
   "metadata": {
    "collapsed": false,
    "pycharm": {
     "name": "#%%\n"
    }
   }
  },
  {
   "cell_type": "markdown",
   "source": [
    "#### 制約式の定義\n",
    "- *x_p≧(p ∊ P)*: 製品 *P* の生産量は 0 以上\n",
    "- *∑_p∊P require_p,m･x_p ≦ stock_m(m∊M)*: 生産は在庫の範囲で行なう"
   ],
   "metadata": {
    "collapsed": false,
    "pycharm": {
     "name": "#%% md\n"
    }
   }
  },
  {
   "cell_type": "code",
   "execution_count": 19,
   "outputs": [],
   "source": [
    "# 制約式の定義\n",
    "\n",
    "# 各要素を for文でまわして１つずつ制約式を定義していく\n",
    "for p in P:\n",
    "    problem += x[p] >= 0\n",
    "for m in M:\n",
    "    problem += pulp.lpSum([require[p, m] * x[p] for p in P]) <= stock[m]\n",
    "    # pulp.lpSum() で総和記号 ∑ を表現できる"
   ],
   "metadata": {
    "collapsed": false,
    "pycharm": {
     "name": "#%%\n"
    }
   }
  },
  {
   "cell_type": "markdown",
   "source": [
    "#### 目的関数の定義\n",
    "目的関数（最大化）\n",
    "*∑_p∊P gain_p･x_p*"
   ],
   "metadata": {
    "collapsed": false,
    "pycharm": {
     "name": "#%% md\n"
    }
   }
  },
  {
   "cell_type": "code",
   "execution_count": 20,
   "outputs": [],
   "source": [
    "# 目的関数の定義\n",
    "problem += pulp.lpSum([gain[p] * x[p] for p in P])"
   ],
   "metadata": {
    "collapsed": false,
    "pycharm": {
     "name": "#%%\n"
    }
   }
  },
  {
   "cell_type": "code",
   "execution_count": 21,
   "outputs": [
    {
     "name": "stdout",
     "output_type": "stream",
     "text": [
      "Status: Optimal\n"
     ]
    }
   ],
   "source": [
    "# 求解\n",
    "status = problem.solve()\n",
    "print('Status:', pulp.LpStatus[status])"
   ],
   "metadata": {
    "collapsed": false,
    "pycharm": {
     "name": "#%%\n"
    }
   }
  },
  {
   "cell_type": "code",
   "execution_count": 22,
   "outputs": [
    {
     "name": "stdout",
     "output_type": "stream",
     "text": [
      "p1 12.1429\n",
      "p2 3.57143\n",
      "p3 7.42857\n",
      "p4 0.0\n",
      "obj= 80.42869999999999\n"
     ]
    }
   ],
   "source": [
    "# 計算結果の表示\n",
    "for p in P:\n",
    "    print(p, x[p].value())\n",
    "\n",
    "print('obj=', problem.objective.value())"
   ],
   "metadata": {
    "collapsed": false,
    "pycharm": {
     "name": "#%%\n"
    }
   }
  },
  {
   "cell_type": "markdown",
   "source": [
    "利得が最大になるような各製品の生産量と利得が確認できる。"
   ],
   "metadata": {
    "collapsed": false,
    "pycharm": {
     "name": "#%% md\n"
    }
   }
  },
  {
   "cell_type": "markdown",
   "source": [
    "## 規模の大きな数理最適化問題を Python の Library で解く"
   ],
   "metadata": {
    "collapsed": false,
    "pycharm": {
     "name": "#%% md\n"
    }
   }
  },
  {
   "cell_type": "markdown",
   "source": [
    "### 【問題】\n",
    "ある工場では製品 *p1*, *p2*, *p3*, *p4* の４種類を製造しています。\n",
    "製品 *p1*, *p2*, *p3*, *p4* の製造には、原料 *m1*, *m2*, *m3*, の３種類が必要です。\n",
    "また、その量は File「requires.csv」に記述されています。"
   ],
   "metadata": {
    "collapsed": false,
    "pycharm": {
     "name": "#%% md\n"
    }
   }
  },
  {
   "cell_type": "code",
   "execution_count": 7,
   "outputs": [
    {
     "name": "stdout",
     "output_type": "stream",
     "text": [
      "p,m,require\n",
      "p1,m1,2\n",
      "p1,m2,0\n",
      "p1,m3,1\n",
      "p2,m1,3\n",
      "p2,m2,2\n",
      "p2,m3,0\n",
      "p3,m1,0\n",
      "p3,m2,2\n",
      "p3,m3,2\n",
      "p4,m1,2\n",
      "p4,m2,2\n",
      "p4,m3,2\n"
     ]
    }
   ],
   "source": [
    "!type requires.csv"
   ],
   "metadata": {
    "collapsed": false,
    "pycharm": {
     "name": "#%%\n"
    }
   }
  },
  {
   "cell_type": "markdown",
   "source": [
    "本Data の２～４行目は、製品 *p1* を 1kg 製造するには原料 *m1* が 2kg, 原料 *m2* が 0kg、、原料 *m3* が1kg 必要であることを表しています。\n",
    "また、原料  *m1*, *m2*, *m3* の在庫は stocks.csv に記述されています。"
   ],
   "metadata": {
    "collapsed": false,
    "pycharm": {
     "name": "#%% md\n"
    }
   }
  },
  {
   "cell_type": "code",
   "execution_count": 9,
   "outputs": [
    {
     "name": "stdout",
     "output_type": "stream",
     "text": [
      "m,stock\n",
      "m1,35\n",
      "m2,22\n",
      "m3,27\n"
     ]
    }
   ],
   "source": [
    "!type stocks.csv"
   ],
   "metadata": {
    "collapsed": false,
    "pycharm": {
     "name": "#%%\n"
    }
   }
  },
  {
   "cell_type": "markdown",
   "source": [
    "本Data の２行目は、原料 *m1* の在庫は 35kg であることを表しています。\n",
    "最後に、製品 *p1*, *p2*, *p3*, *p4* を精算した際の利得は gains.csv に記述されています。"
   ],
   "metadata": {
    "collapsed": false,
    "pycharm": {
     "name": "#%% md\n"
    }
   }
  },
  {
   "cell_type": "code",
   "execution_count": 10,
   "outputs": [
    {
     "name": "stdout",
     "output_type": "stream",
     "text": [
      "p,gain\n",
      "p1,3\n",
      "p2,4\n",
      "p3,4\n",
      "p4,5\n"
     ]
    }
   ],
   "source": [
    "!type gains.csv"
   ],
   "metadata": {
    "collapsed": false,
    "pycharm": {
     "name": "#%%\n"
    }
   }
  },
  {
   "cell_type": "markdown",
   "source": [
    "本Data の２行目の Data は、製品 *p1* の利得は、３万円であることを表しています。\n",
    "このとき、利得を最大にするためには、製品 *p1*, *p2*, *p3*, *p4*, をそれぞれ何kg 製造すればよいでしょうか。"
   ],
   "metadata": {
    "collapsed": false,
    "pycharm": {
     "name": "#%% md\n"
    }
   }
  },
  {
   "cell_type": "markdown",
   "source": [
    "### この線形計画問題の数理 Modeling\n",
    "- List\n",
    "- 定数\n",
    "- 変数\n",
    "\n",
    "を準備する。そのうえで\n",
    "\n",
    "- 制約式\n",
    "- 目的関数\n",
    "\n",
    "を定める。"
   ],
   "metadata": {
    "collapsed": false,
    "pycharm": {
     "name": "#%% md\n"
    }
   }
  },
  {
   "cell_type": "markdown",
   "source": [
    "数理 Model を関数として捉えると\n",
    "- List, 定数は、入力に対応。\n",
    "- 変数は、出力（決定したい対象）に対応\n",
    "- 制約式、- 目的関数は、関数定義に当たる"
   ],
   "metadata": {
    "collapsed": false,
    "pycharm": {
     "name": "#%% md\n"
    }
   }
  },
  {
   "cell_type": "code",
   "execution_count": 15,
   "outputs": [],
   "source": [
    "# 必要な Libray の import\n",
    "import pandas as pd\n",
    "import pulp\n",
    "from IPython.display import display"
   ],
   "metadata": {
    "collapsed": false,
    "pycharm": {
     "name": "#%%\n"
    }
   }
  },
  {
   "cell_type": "code",
   "execution_count": 54,
   "outputs": [
    {
     "data": {
      "text/plain": "    m  stock\n0  m1     35\n1  m2     22\n2  m3     27",
      "text/html": "<div>\n<style scoped>\n    .dataframe tbody tr th:only-of-type {\n        vertical-align: middle;\n    }\n\n    .dataframe tbody tr th {\n        vertical-align: top;\n    }\n\n    .dataframe thead th {\n        text-align: right;\n    }\n</style>\n<table border=\"1\" class=\"dataframe\">\n  <thead>\n    <tr style=\"text-align: right;\">\n      <th></th>\n      <th>m</th>\n      <th>stock</th>\n    </tr>\n  </thead>\n  <tbody>\n    <tr>\n      <th>0</th>\n      <td>m1</td>\n      <td>35</td>\n    </tr>\n    <tr>\n      <th>1</th>\n      <td>m2</td>\n      <td>22</td>\n    </tr>\n    <tr>\n      <th>2</th>\n      <td>m3</td>\n      <td>27</td>\n    </tr>\n  </tbody>\n</table>\n</div>"
     },
     "metadata": {},
     "output_type": "display_data"
    },
    {
     "data": {
      "text/plain": "     p   m  require\n0   p1  m1        2\n1   p1  m2        0\n2   p1  m3        1\n3   p2  m1        3\n4   p2  m2        2\n5   p2  m3        0\n6   p3  m1        0\n7   p3  m2        2\n8   p3  m3        2\n9   p4  m1        2\n10  p4  m2        2\n11  p4  m3        2",
      "text/html": "<div>\n<style scoped>\n    .dataframe tbody tr th:only-of-type {\n        vertical-align: middle;\n    }\n\n    .dataframe tbody tr th {\n        vertical-align: top;\n    }\n\n    .dataframe thead th {\n        text-align: right;\n    }\n</style>\n<table border=\"1\" class=\"dataframe\">\n  <thead>\n    <tr style=\"text-align: right;\">\n      <th></th>\n      <th>p</th>\n      <th>m</th>\n      <th>require</th>\n    </tr>\n  </thead>\n  <tbody>\n    <tr>\n      <th>0</th>\n      <td>p1</td>\n      <td>m1</td>\n      <td>2</td>\n    </tr>\n    <tr>\n      <th>1</th>\n      <td>p1</td>\n      <td>m2</td>\n      <td>0</td>\n    </tr>\n    <tr>\n      <th>2</th>\n      <td>p1</td>\n      <td>m3</td>\n      <td>1</td>\n    </tr>\n    <tr>\n      <th>3</th>\n      <td>p2</td>\n      <td>m1</td>\n      <td>3</td>\n    </tr>\n    <tr>\n      <th>4</th>\n      <td>p2</td>\n      <td>m2</td>\n      <td>2</td>\n    </tr>\n    <tr>\n      <th>5</th>\n      <td>p2</td>\n      <td>m3</td>\n      <td>0</td>\n    </tr>\n    <tr>\n      <th>6</th>\n      <td>p3</td>\n      <td>m1</td>\n      <td>0</td>\n    </tr>\n    <tr>\n      <th>7</th>\n      <td>p3</td>\n      <td>m2</td>\n      <td>2</td>\n    </tr>\n    <tr>\n      <th>8</th>\n      <td>p3</td>\n      <td>m3</td>\n      <td>2</td>\n    </tr>\n    <tr>\n      <th>9</th>\n      <td>p4</td>\n      <td>m1</td>\n      <td>2</td>\n    </tr>\n    <tr>\n      <th>10</th>\n      <td>p4</td>\n      <td>m2</td>\n      <td>2</td>\n    </tr>\n    <tr>\n      <th>11</th>\n      <td>p4</td>\n      <td>m3</td>\n      <td>2</td>\n    </tr>\n  </tbody>\n</table>\n</div>"
     },
     "metadata": {},
     "output_type": "display_data"
    },
    {
     "data": {
      "text/plain": "    p  gain\n0  p1     3\n1  p2     4\n2  p3     4\n3  p4     5",
      "text/html": "<div>\n<style scoped>\n    .dataframe tbody tr th:only-of-type {\n        vertical-align: middle;\n    }\n\n    .dataframe tbody tr th {\n        vertical-align: top;\n    }\n\n    .dataframe thead th {\n        text-align: right;\n    }\n</style>\n<table border=\"1\" class=\"dataframe\">\n  <thead>\n    <tr style=\"text-align: right;\">\n      <th></th>\n      <th>p</th>\n      <th>gain</th>\n    </tr>\n  </thead>\n  <tbody>\n    <tr>\n      <th>0</th>\n      <td>p1</td>\n      <td>3</td>\n    </tr>\n    <tr>\n      <th>1</th>\n      <td>p2</td>\n      <td>4</td>\n    </tr>\n    <tr>\n      <th>2</th>\n      <td>p3</td>\n      <td>4</td>\n    </tr>\n    <tr>\n      <th>3</th>\n      <td>p4</td>\n      <td>5</td>\n    </tr>\n  </tbody>\n</table>\n</div>"
     },
     "metadata": {},
     "output_type": "display_data"
    }
   ],
   "source": [
    "# Data の 取得\n",
    "stock_df = pd.read_csv('stocks.csv')\n",
    "display(stock_df)\n",
    "require_df = pd.read_csv('requires.csv')\n",
    "display(require_df)\n",
    "gain_df = pd.read_csv('gains.csv')\n",
    "display(gain_df)"
   ],
   "metadata": {
    "collapsed": false,
    "pycharm": {
     "name": "#%%\n"
    }
   }
  },
  {
   "cell_type": "code",
   "execution_count": null,
   "outputs": [],
   "source": [
    "# List の定義\n",
    "P = gain_df['p'].tolist()\n",
    "print('P', P)\n",
    "M = stock_df['m'].tolist()\n",
    "print('M', M)"
   ],
   "metadata": {
    "collapsed": false,
    "pycharm": {
     "name": "#%%\n"
    }
   }
  },
  {
   "cell_type": "markdown",
   "source": [
    "#### List の定義\n",
    "- *P*: 製品の List\n",
    "- *M*: 原料の List\n",
    "\n",
    "*P* は、gain_df から、 *M* は、stock_df から取得する"
   ],
   "metadata": {
    "collapsed": false,
    "pycharm": {
     "name": "#%% md\n"
    }
   }
  },
  {
   "cell_type": "code",
   "execution_count": 57,
   "outputs": [
    {
     "name": "stdout",
     "output_type": "stream",
     "text": [
      "P ['p1', 'p2', 'p3', 'p4']\n",
      "M ['m1', 'm2', 'm3']\n"
     ]
    }
   ],
   "source": [
    "# List の定義\n",
    "P = gain_df['p'].tolist()\n",
    "print('P', P)\n",
    "M = stock_df['m'].tolist()\n",
    "print('M', M)"
   ],
   "metadata": {
    "collapsed": false,
    "pycharm": {
     "name": "#%%\n"
    }
   }
  },
  {
   "cell_type": "markdown",
   "source": [
    "#### 定数の定義\n",
    "- *stock_m* (*m* ∊ *M*): 原料 *m* の在庫量\n",
    "- *require_p,m* (*p* ∊ *P*, *m* ∊ *M*): 製品 *p* を生産するのに必要な原料 *m* の量\n",
    "- *gain_p* (*p* ∊ *P*): 製品 *p* を生産した際の利得\n",
    "\n",
    "それぞれ、stock_df, require_df, gain_df から取得。\n",
    "dict型で作成する"
   ],
   "metadata": {
    "collapsed": false,
    "pycharm": {
     "name": "#%% md\n"
    }
   }
  },
  {
   "cell_type": "code",
   "execution_count": 59,
   "outputs": [
    {
     "name": "stdout",
     "output_type": "stream",
     "text": [
      "stock_m {'m1': 35, 'm2': 22, 'm3': 27}\n",
      "require_p,m {('p1', 'm1'): 2, ('p1', 'm2'): 0, ('p1', 'm3'): 1, ('p2', 'm1'): 3, ('p2', 'm2'): 2, ('p2', 'm3'): 0, ('p3', 'm1'): 0, ('p3', 'm2'): 2, ('p3', 'm3'): 2, ('p4', 'm1'): 2, ('p4', 'm2'): 2, ('p4', 'm3'): 2}\n",
      "gain_p {'p1': 3, 'p2': 4, 'p3': 4, 'p4': 5}\n"
     ]
    }
   ],
   "source": [
    "# 定数の定義\n",
    "stock = {row.m: row.stock for row in stock_df.itertuples()}\n",
    "print('stock_m', stock)\n",
    "require = {(row.p, row.m): row.require for row in require_df.itertuples()}\n",
    "print('require_p,m', require)\n",
    "gain = {row.p: row.gain for row in gain_df.itertuples()}\n",
    "print('gain_p', gain)"
   ],
   "metadata": {
    "collapsed": false,
    "pycharm": {
     "name": "#%%\n"
    }
   }
  },
  {
   "cell_type": "code",
   "execution_count": 60,
   "outputs": [],
   "source": [
    "# 線形計画問題の定義\n",
    "problem = pulp.LpProblem('LP2', pulp.LpMaximize)"
   ],
   "metadata": {
    "collapsed": false,
    "pycharm": {
     "name": "#%%\n"
    }
   }
  },
  {
   "cell_type": "code",
   "execution_count": 61,
   "outputs": [],
   "source": [
    "# 変数の定義\n",
    "x = pulp.LpVariable.dicts('x', P, cat='Continuous')"
   ],
   "metadata": {
    "collapsed": false,
    "pycharm": {
     "name": "#%%\n"
    }
   }
  },
  {
   "cell_type": "code",
   "execution_count": 62,
   "outputs": [],
   "source": [
    "# 制約式の定義\n",
    "for p in P:\n",
    "    problem += x[p] >= 0\n",
    "for m in M:\n",
    "    problem += pulp.lpSum([require[p, m] * x[p] for p in P]) <= stock[m]"
   ],
   "metadata": {
    "collapsed": false,
    "pycharm": {
     "name": "#%%\n"
    }
   }
  },
  {
   "cell_type": "code",
   "execution_count": 63,
   "outputs": [],
   "source": [
    "# 目的関数の定義\n",
    "problem += pulp.lpSum([gain[p] * x[p] for p in P])"
   ],
   "metadata": {
    "collapsed": false,
    "pycharm": {
     "name": "#%%\n"
    }
   }
  },
  {
   "cell_type": "code",
   "execution_count": 64,
   "outputs": [
    {
     "name": "stdout",
     "output_type": "stream",
     "text": [
      "Status: Optimal\n"
     ]
    }
   ],
   "source": [
    "# 求解\n",
    "status = problem.solve()\n",
    "print('Status:', pulp.LpStatus[status])"
   ],
   "metadata": {
    "collapsed": false,
    "pycharm": {
     "name": "#%%\n"
    }
   }
  },
  {
   "cell_type": "code",
   "execution_count": 65,
   "outputs": [
    {
     "name": "stdout",
     "output_type": "stream",
     "text": [
      "p1 12.1429\n",
      "p2 3.57143\n",
      "p3 7.42857\n",
      "p4 0.0\n",
      "obj= 80.42869999999999\n"
     ]
    }
   ],
   "source": [
    "# 計算結果の表示\n",
    "for p in P:\n",
    "    print(p, x[p].value())\n",
    "\n",
    "print('obj=', problem.objective.value())"
   ],
   "metadata": {
    "collapsed": false,
    "pycharm": {
     "name": "#%%\n"
    }
   }
  },
  {
   "cell_type": "code",
   "execution_count": null,
   "outputs": [],
   "source": [],
   "metadata": {
    "collapsed": false,
    "pycharm": {
     "name": "#%%\n"
    }
   }
  },
  {
   "cell_type": "code",
   "execution_count": 3,
   "outputs": [
    {
     "name": "stdout",
     "output_type": "stream",
     "text": [
      "p,m,require\n",
      "p1,m1,2\n",
      "p1,m2,0\n",
      "p1,m3,1\n",
      "p2,m1,3\n",
      "p2,m2,2\n",
      "p2,m3,0\n",
      "p3,m1,0\n",
      "p3,m2,2\n",
      "p3,m3,2\n",
      "p4,m1,2\n",
      "p4,m2,2\n",
      "p4,m3,2\n"
     ]
    }
   ],
   "source": [
    "!type requires.csv"
   ],
   "metadata": {
    "collapsed": false,
    "pycharm": {
     "name": "#%%\n"
    }
   }
  },
  {
   "cell_type": "markdown",
   "source": [
    "本Data の２～４行目は、製品 *p1* を 1kg 製造するには原料 *m1* が 2kg, 原料 *m2* が 0kg、、原料 *m3* が1kg 必要であることを表しています。\n",
    "また、原料  *m1*, *m2*, *m3* の在庫は stock.csv に記述されています。"
   ],
   "metadata": {
    "collapsed": false,
    "pycharm": {
     "name": "#%% md\n"
    }
   }
  },
  {
   "cell_type": "code",
   "execution_count": null,
   "outputs": [],
   "source": [],
   "metadata": {
    "collapsed": false,
    "pycharm": {
     "name": "#%%\n"
    }
   }
  }
 ],
 "metadata": {
  "kernelspec": {
   "display_name": "Python 3",
   "language": "python",
   "name": "python3"
  },
  "language_info": {
   "codemirror_mode": {
    "name": "ipython",
    "version": 2
   },
   "file_extension": ".py",
   "mimetype": "text/x-python",
   "name": "python",
   "nbconvert_exporter": "python",
   "pygments_lexer": "ipython2",
   "version": "2.7.6"
  }
 },
 "nbformat": 4,
 "nbformat_minor": 0
}