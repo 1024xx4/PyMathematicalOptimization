{
 "cells": [
  {
   "cell_type": "markdown",
   "source": [
    "## 連立一次方程式を Python の数理最適化 Libray で解く"
   ],
   "metadata": {
    "collapsed": false,
    "pycharm": {
     "name": "#%% md\n"
    }
   }
  },
  {
   "cell_type": "code",
   "execution_count": 1,
   "outputs": [
    {
     "name": "stdout",
     "output_type": "stream",
     "text": [
      "Status: Optimal\n",
      "x= 2.0 y= 8.0\n"
     ]
    }
   ],
   "source": [
    "import pulp  # PuLP library の取り込み\n",
    "\n",
    "problem = pulp.LpProblem('SLE', pulp.LpMaximize)  # 数理 Model の定義。第１引数は任意の名前。第２引数は、最大化問題を解く、という指定（※今回は最大化問題を解いているわけではないのでおまじないに近い）\n",
    "\n",
    "x = pulp.LpVariable('x', cat='Continuous')  # 変数 x を定義。pulp.LaVariable('任意の名前', cat='変数が連続変数、つまり実現値をとることを指定')\n",
    "y = pulp.LpVariable('y', cat='Continuous')  # 変数 y を定義。pulp.LaVariable('任意の名前', cat='変数が連続変数、つまり実現値をとることを指定')\n",
    "\n",
    "problem += 120 * x + 150 * y == 1440  # 連立一次方程式を定義\n",
    "problem += x + y == 10  # 連立一次方程式を定義\n",
    "\n",
    "status = problem.solve()  # 定義した数理 Model を解く。解けたか解けなかったの情報を返す\n",
    "\n",
    "print('Status:', pulp.LpStatus[status])  # 最適化計算をした結果を表示\n",
    "print('x=', x.value(), 'y=', y.value())  # x, y 計算結果の値を表示"
   ],
   "metadata": {
    "collapsed": false,
    "pycharm": {
     "name": "#%%\n"
    }
   }
  },
  {
   "cell_type": "markdown",
   "source": [
    "## 線形化問題を Python の数理最適化 Libray で解く"
   ],
   "metadata": {
    "collapsed": false,
    "pycharm": {
     "name": "#%% md\n"
    }
   }
  },
  {
   "cell_type": "code",
   "execution_count": 2,
   "outputs": [
    {
     "name": "stdout",
     "output_type": "stream",
     "text": [
      "Status: Optimal\n",
      "x= 18.0 y= 4.0 obj= 26.0\n"
     ]
    }
   ],
   "source": [
    "problem = pulp.LpProblem('LP', pulp.LpMaximize)  # PuLP の取り込み\n",
    "\n",
    "x = pulp.LpVariable('x', cat='Continuous')  # 変数x をpulp.LpVariable('任意の名前', cat='連続変数、つまり実現値をとることを指定')\n",
    "y = pulp.LpVariable('y', cat='Continuous')  # 変数y をpulp.LpVariable('任意の名前', cat='連続変数、つまり実現値をとることを指定')\n",
    "\n",
    "problem += 1*x + 3*y <= 30  # 線形問題の条件式を定義\n",
    "problem += 2*x + 1*y <= 40  # 線形問題の条件式を定義\n",
    "problem += x >= 0  # 線形問題の条件式を定義\n",
    "problem += y >= 0  # 線形問題の条件式を定義\n",
    "\n",
    "problem += x + 2*y  # 数理 Model: problem の目的関数を定義\n",
    "# LpProblem() は、+= 演算子の右辺が制約であれば制約式を追加し、関数であれば目的関数を追加する\n",
    "\n",
    "status = problem.solve()  # 定義した数理 Model を解く\n",
    "\n",
    "print('Status:', pulp.LpStatus[status])  # 解けたか解けなかったか結果を表示\n",
    "print('x=', x.value(), 'y=', y.value(), 'obj=', problem.objective.value())  # x, y と最大化しようとした利得の関数値を表示"
   ],
   "metadata": {
    "collapsed": false,
    "pycharm": {
     "name": "#%%\n"
    }
   }
  },
  {
   "cell_type": "code",
   "execution_count": null,
   "outputs": [],
   "source": [],
   "metadata": {
    "collapsed": false,
    "pycharm": {
     "name": "#%%\n"
    }
   }
  }
 ],
 "metadata": {
  "kernelspec": {
   "display_name": "Python 3",
   "language": "python",
   "name": "python3"
  },
  "language_info": {
   "codemirror_mode": {
    "name": "ipython",
    "version": 2
   },
   "file_extension": ".py",
   "mimetype": "text/x-python",
   "name": "python",
   "nbconvert_exporter": "python",
   "pygments_lexer": "ipython2",
   "version": "2.7.6"
  }
 },
 "nbformat": 4,
 "nbformat_minor": 0
}