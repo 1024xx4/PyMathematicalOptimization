{
 "cells": [
  {
   "cell_type": "markdown",
   "source": [
    "# 割引 Coupon Campaign の効果最大化\n",
    "## Data 理解\n",
    "### Data の確認"
   ],
   "metadata": {
    "collapsed": false,
    "pycharm": {
     "name": "#%% md\n"
    }
   }
  },
  {
   "cell_type": "markdown",
   "source": [
    "#### 会員 Data の確認"
   ],
   "metadata": {
    "collapsed": false,
    "pycharm": {
     "name": "#%% md\n"
    }
   }
  },
  {
   "cell_type": "code",
   "execution_count": 1,
   "outputs": [
    {
     "data": {
      "text/plain": "(5000, 3)"
     },
     "execution_count": 1,
     "metadata": {},
     "output_type": "execute_result"
    }
   ],
   "source": [
    "import pandas as pd\n",
    "\n",
    "cust_df = pd.read_csv('customers.csv')\n",
    "cust_df.shape"
   ],
   "metadata": {
    "collapsed": false,
    "pycharm": {
     "name": "#%%\n"
    }
   }
  },
  {
   "cell_type": "markdown",
   "source": [
    "すべての行を確認するのは大変な為、上部 Record を見てみる。"
   ],
   "metadata": {
    "collapsed": false,
    "pycharm": {
     "name": "#%% md\n"
    }
   }
  },
  {
   "cell_type": "code",
   "execution_count": 2,
   "outputs": [
    {
     "data": {
      "text/plain": "   customer_id   age_cat freq_cat\n0            1  age20~34    freq2\n1            2  age35~49    freq0\n2            3  age35~49    freq0\n3            4    age~19    freq0\n4            5  age35~49    freq0",
      "text/html": "<div>\n<style scoped>\n    .dataframe tbody tr th:only-of-type {\n        vertical-align: middle;\n    }\n\n    .dataframe tbody tr th {\n        vertical-align: top;\n    }\n\n    .dataframe thead th {\n        text-align: right;\n    }\n</style>\n<table border=\"1\" class=\"dataframe\">\n  <thead>\n    <tr style=\"text-align: right;\">\n      <th></th>\n      <th>customer_id</th>\n      <th>age_cat</th>\n      <th>freq_cat</th>\n    </tr>\n  </thead>\n  <tbody>\n    <tr>\n      <th>0</th>\n      <td>1</td>\n      <td>age20~34</td>\n      <td>freq2</td>\n    </tr>\n    <tr>\n      <th>1</th>\n      <td>2</td>\n      <td>age35~49</td>\n      <td>freq0</td>\n    </tr>\n    <tr>\n      <th>2</th>\n      <td>3</td>\n      <td>age35~49</td>\n      <td>freq0</td>\n    </tr>\n    <tr>\n      <th>3</th>\n      <td>4</td>\n      <td>age~19</td>\n      <td>freq0</td>\n    </tr>\n    <tr>\n      <th>4</th>\n      <td>5</td>\n      <td>age35~49</td>\n      <td>freq0</td>\n    </tr>\n  </tbody>\n</table>\n</div>"
     },
     "execution_count": 2,
     "metadata": {},
     "output_type": "execute_result"
    }
   ],
   "source": [
    "# File の上部 Record\n",
    "cust_df.head()"
   ],
   "metadata": {
    "collapsed": false,
    "pycharm": {
     "name": "#%%\n"
    }
   }
  },
  {
   "cell_type": "code",
   "execution_count": 3,
   "outputs": [
    {
     "data": {
      "text/plain": "customer_id     int64\nage_cat        object\nfreq_cat       object\ndtype: object"
     },
     "execution_count": 3,
     "metadata": {},
     "output_type": "execute_result"
    }
   ],
   "source": [
    "# Data の型\n",
    "cust_df.dtypes"
   ],
   "metadata": {
    "collapsed": false,
    "pycharm": {
     "name": "#%%\n"
    }
   }
  },
  {
   "cell_type": "markdown",
   "source": [
    "各 Column の意味\n",
    "- customer_id: 会員 ID. (※ 1 ~ 5,000 の間で Unique な整数値をとる。)\n",
    "- age_cat: 齢区分\n",
    "- freq_cat: 昨年度来店回数区分"
   ],
   "metadata": {
    "collapsed": false,
    "pycharm": {
     "name": "#%% md\n"
    }
   }
  },
  {
   "cell_type": "markdown",
   "source": [
    "年齢区分と昨年度来店回数について、分布を可視化して確認する。"
   ],
   "metadata": {
    "collapsed": false,
    "pycharm": {
     "name": "#%% md\n"
    }
   }
  },
  {
   "cell_type": "code",
   "execution_count": 4,
   "outputs": [
    {
     "data": {
      "text/plain": "<AxesSubplot:>"
     },
     "execution_count": 4,
     "metadata": {},
     "output_type": "execute_result"
    },
    {
     "data": {
      "text/plain": "<Figure size 432x288 with 1 Axes>",
      "image/png": "[encoded data removed]"
     },
     "metadata": {
      "needs_background": "light"
     },
     "output_type": "display_data"
    }
   ],
   "source": [
    "cust_df['age_cat'].hist()"
   ],
   "metadata": {
    "collapsed": false,
    "pycharm": {
     "name": "#%%\n"
    }
   }
  },
  {
   "cell_type": "code",
   "execution_count": 5,
   "outputs": [
    {
     "data": {
      "text/plain": "<AxesSubplot:>"
     },
     "execution_count": 5,
     "metadata": {},
     "output_type": "execute_result"
    },
    {
     "data": {
      "text/plain": "<Figure size 432x288 with 1 Axes>",
      "image/png": "[encoded data removed]"
     },
     "metadata": {
      "needs_background": "light"
     },
     "output_type": "display_data"
    }
   ],
   "source": [
    "cust_df['freq_cat'].hist()"
   ],
   "metadata": {
    "collapsed": false,
    "pycharm": {
     "name": "#%%\n"
    }
   }
  },
  {
   "cell_type": "markdown",
   "source": [
    "年齢層と来店回数の組み合わせの人数を確認してみる。"
   ],
   "metadata": {
    "collapsed": false,
    "pycharm": {
     "name": "#%% md\n"
    }
   }
  },
  {
   "cell_type": "code",
   "execution_count": 6,
   "outputs": [
    {
     "data": {
      "text/plain": "freq_cat  freq0  freq1  freq2  freq3~\nage_cat                              \nage~19      200    150     50     100\nage20~34    600    450    150     300\nage35~49    800    600    200     400\nage50~      400    300    100     200",
      "text/html": "<div>\n<style scoped>\n    .dataframe tbody tr th:only-of-type {\n        vertical-align: middle;\n    }\n\n    .dataframe tbody tr th {\n        vertical-align: top;\n    }\n\n    .dataframe thead th {\n        text-align: right;\n    }\n</style>\n<table border=\"1\" class=\"dataframe\">\n  <thead>\n    <tr style=\"text-align: right;\">\n      <th>freq_cat</th>\n      <th>freq0</th>\n      <th>freq1</th>\n      <th>freq2</th>\n      <th>freq3~</th>\n    </tr>\n    <tr>\n      <th>age_cat</th>\n      <th></th>\n      <th></th>\n      <th></th>\n      <th></th>\n    </tr>\n  </thead>\n  <tbody>\n    <tr>\n      <th>age~19</th>\n      <td>200</td>\n      <td>150</td>\n      <td>50</td>\n      <td>100</td>\n    </tr>\n    <tr>\n      <th>age20~34</th>\n      <td>600</td>\n      <td>450</td>\n      <td>150</td>\n      <td>300</td>\n    </tr>\n    <tr>\n      <th>age35~49</th>\n      <td>800</td>\n      <td>600</td>\n      <td>200</td>\n      <td>400</td>\n    </tr>\n    <tr>\n      <th>age50~</th>\n      <td>400</td>\n      <td>300</td>\n      <td>100</td>\n      <td>200</td>\n    </tr>\n  </tbody>\n</table>\n</div>"
     },
     "execution_count": 6,
     "metadata": {},
     "output_type": "execute_result"
    }
   ],
   "source": [
    "cust_pivot_df = pd.pivot_table(data=cust_df, values='customer_id', columns='freq_cat', index='age_cat', aggfunc='count')\n",
    "cust_pivot_df = cust_pivot_df.reindex(['age~19', 'age20~34', 'age35~49', 'age50~'])\n",
    "cust_pivot_df"
   ],
   "metadata": {
    "collapsed": false,
    "pycharm": {
     "name": "#%%\n"
    }
   }
  },
  {
   "cell_type": "markdown",
   "source": [
    "理解を促進するために、２軸の Heatmap を描画する。"
   ],
   "metadata": {
    "collapsed": false,
    "pycharm": {
     "name": "#%% md\n"
    }
   }
  },
  {
   "cell_type": "code",
   "execution_count": 7,
   "outputs": [
    {
     "data": {
      "text/plain": "<AxesSubplot:xlabel='freq_cat', ylabel='age_cat'>"
     },
     "execution_count": 7,
     "metadata": {},
     "output_type": "execute_result"
    },
    {
     "data": {
      "text/plain": "<Figure size 432x288 with 2 Axes>",
      "image/png": "[encoded data removed]"
     },
     "metadata": {
      "needs_background": "light"
     },
     "output_type": "display_data"
    }
   ],
   "source": [
    "import seaborn as sns\n",
    "\n",
    "sns.heatmap(cust_pivot_df, annot=True, fmt='d', cmap='Blues')\n",
    "# annot= : True: Cell　上に値を出力する。\n",
    "# fmt= : 文字列 Format を指定する。\n",
    "# cmap= : Colormap を Design."
   ],
   "metadata": {
    "collapsed": false,
    "pycharm": {
     "name": "#%%\n"
    }
   }
  },
  {
   "cell_type": "markdown",
   "source": [
    "年齢区分と昨年度来店回数区分の組合せでは、\n",
    "- 35~49歳と昨年度来店数０回が多い\n",
    "- 19歳以下と昨年度来店回数２回が少ない"
   ],
   "metadata": {
    "collapsed": false,
    "pycharm": {
     "name": "#%% md\n"
    }
   }
  },
  {
   "cell_type": "markdown",
   "source": [
    "#### 来店率 Data の確認"
   ],
   "metadata": {
    "collapsed": false,
    "pycharm": {
     "name": "#%% md\n"
    }
   }
  },
  {
   "cell_type": "code",
   "execution_count": 8,
   "outputs": [
    {
     "data": {
      "text/plain": "(16, 6)"
     },
     "execution_count": 8,
     "metadata": {},
     "output_type": "execute_result"
    }
   ],
   "source": [
    "prob_df = pd.read_csv('visit_probability.csv')\n",
    "prob_df.shape"
   ],
   "metadata": {
    "collapsed": false,
    "pycharm": {
     "name": "#%%\n"
    }
   }
  },
  {
   "cell_type": "markdown",
   "source": [
    "16行と比較的小さい Data のため、全 Record を確認してみる。"
   ],
   "metadata": {
    "collapsed": false,
    "pycharm": {
     "name": "#%% md\n"
    }
   }
  },
  {
   "cell_type": "code",
   "execution_count": 9,
   "outputs": [
    {
     "data": {
      "text/plain": "     age_cat freq_cat  segment_id  prob_dm1  prob_dm2  prob_dm3\n0     age~19    freq0           1      0.07      0.12      0.29\n1     age~19    freq1           2      0.21      0.30      0.58\n2     age~19    freq2           3      0.28      0.39      0.74\n3     age~19   freq3~           4      0.35      0.45      0.77\n4   age20~34    freq0           5      0.11      0.17      0.37\n5   age20~34    freq1           6      0.32      0.43      0.72\n6   age20~34    freq2           7      0.42      0.55      0.93\n7   age20~34   freq3~           8      0.52      0.63      0.94\n8   age35~49    freq0           9      0.08      0.14      0.33\n9   age35~49    freq1          10      0.25      0.35      0.67\n10  age35~49    freq2          11      0.34      0.45      0.86\n11  age35~49   freq3~          12      0.42      0.52      0.89\n12    age50~    freq0          13      0.07      0.13      0.32\n13    age50~    freq1          14      0.21      0.33      0.65\n14    age50~    freq2          15      0.28      0.42      0.84\n15    age50~   freq3~          16      0.35      0.49      0.88",
      "text/html": "<div>\n<style scoped>\n    .dataframe tbody tr th:only-of-type {\n        vertical-align: middle;\n    }\n\n    .dataframe tbody tr th {\n        vertical-align: top;\n    }\n\n    .dataframe thead th {\n        text-align: right;\n    }\n</style>\n<table border=\"1\" class=\"dataframe\">\n  <thead>\n    <tr style=\"text-align: right;\">\n      <th></th>\n      <th>age_cat</th>\n      <th>freq_cat</th>\n      <th>segment_id</th>\n      <th>prob_dm1</th>\n      <th>prob_dm2</th>\n      <th>prob_dm3</th>\n    </tr>\n  </thead>\n  <tbody>\n    <tr>\n      <th>0</th>\n      <td>age~19</td>\n      <td>freq0</td>\n      <td>1</td>\n      <td>0.07</td>\n      <td>0.12</td>\n      <td>0.29</td>\n    </tr>\n    <tr>\n      <th>1</th>\n      <td>age~19</td>\n      <td>freq1</td>\n      <td>2</td>\n      <td>0.21</td>\n      <td>0.30</td>\n      <td>0.58</td>\n    </tr>\n    <tr>\n      <th>2</th>\n      <td>age~19</td>\n      <td>freq2</td>\n      <td>3</td>\n      <td>0.28</td>\n      <td>0.39</td>\n      <td>0.74</td>\n    </tr>\n    <tr>\n      <th>3</th>\n      <td>age~19</td>\n      <td>freq3~</td>\n      <td>4</td>\n      <td>0.35</td>\n      <td>0.45</td>\n      <td>0.77</td>\n    </tr>\n    <tr>\n      <th>4</th>\n      <td>age20~34</td>\n      <td>freq0</td>\n      <td>5</td>\n      <td>0.11</td>\n      <td>0.17</td>\n      <td>0.37</td>\n    </tr>\n    <tr>\n      <th>5</th>\n      <td>age20~34</td>\n      <td>freq1</td>\n      <td>6</td>\n      <td>0.32</td>\n      <td>0.43</td>\n      <td>0.72</td>\n    </tr>\n    <tr>\n      <th>6</th>\n      <td>age20~34</td>\n      <td>freq2</td>\n      <td>7</td>\n      <td>0.42</td>\n      <td>0.55</td>\n      <td>0.93</td>\n    </tr>\n    <tr>\n      <th>7</th>\n      <td>age20~34</td>\n      <td>freq3~</td>\n      <td>8</td>\n      <td>0.52</td>\n      <td>0.63</td>\n      <td>0.94</td>\n    </tr>\n    <tr>\n      <th>8</th>\n      <td>age35~49</td>\n      <td>freq0</td>\n      <td>9</td>\n      <td>0.08</td>\n      <td>0.14</td>\n      <td>0.33</td>\n    </tr>\n    <tr>\n      <th>9</th>\n      <td>age35~49</td>\n      <td>freq1</td>\n      <td>10</td>\n      <td>0.25</td>\n      <td>0.35</td>\n      <td>0.67</td>\n    </tr>\n    <tr>\n      <th>10</th>\n      <td>age35~49</td>\n      <td>freq2</td>\n      <td>11</td>\n      <td>0.34</td>\n      <td>0.45</td>\n      <td>0.86</td>\n    </tr>\n    <tr>\n      <th>11</th>\n      <td>age35~49</td>\n      <td>freq3~</td>\n      <td>12</td>\n      <td>0.42</td>\n      <td>0.52</td>\n      <td>0.89</td>\n    </tr>\n    <tr>\n      <th>12</th>\n      <td>age50~</td>\n      <td>freq0</td>\n      <td>13</td>\n      <td>0.07</td>\n      <td>0.13</td>\n      <td>0.32</td>\n    </tr>\n    <tr>\n      <th>13</th>\n      <td>age50~</td>\n      <td>freq1</td>\n      <td>14</td>\n      <td>0.21</td>\n      <td>0.33</td>\n      <td>0.65</td>\n    </tr>\n    <tr>\n      <th>14</th>\n      <td>age50~</td>\n      <td>freq2</td>\n      <td>15</td>\n      <td>0.28</td>\n      <td>0.42</td>\n      <td>0.84</td>\n    </tr>\n    <tr>\n      <th>15</th>\n      <td>age50~</td>\n      <td>freq3~</td>\n      <td>16</td>\n      <td>0.35</td>\n      <td>0.49</td>\n      <td>0.88</td>\n    </tr>\n  </tbody>\n</table>\n</div>"
     },
     "execution_count": 9,
     "metadata": {},
     "output_type": "execute_result"
    }
   ],
   "source": [
    "prob_df"
   ],
   "metadata": {
    "collapsed": false,
    "pycharm": {
     "name": "#%%\n"
    }
   }
  },
  {
   "cell_type": "markdown",
   "source": [
    "各 Column の意味\n",
    "- age_cat: 年齢区分\n",
    "- freq_cat: 昨年度来店回数区分\n",
    "- segment_id: 年齢区分と昨年度来店回数分の君合わせによる会員の Segment\n",
    "- prob_dm1: 当該 Segment に Sale のチラシのみの DM を送付したときの来店率\n",
    "- prob_dm2: 当該 Segment に Sale のチラシと 1,000円の Coupon の DM を送付したときの来店率\n",
    "- prob_dm3: 当該 Segment に Sale のチラシと 2,000円の Coupon の DM を送付したときの来店率"
   ],
   "metadata": {
    "collapsed": false,
    "pycharm": {
     "name": "#%% md\n"
    }
   }
  },
  {
   "cell_type": "markdown",
   "source": [
    "全体の傾向を捉えるために可視化する。"
   ],
   "metadata": {
    "collapsed": false,
    "pycharm": {
     "name": "#%% md\n"
    }
   }
  },
  {
   "cell_type": "code",
   "execution_count": 10,
   "outputs": [
    {
     "data": {
      "text/plain": "<Figure size 1440x216 with 6 Axes>",
      "image/png": "[encoded data removed]"
     },
     "metadata": {
      "needs_background": "light"
     },
     "output_type": "display_data"
    }
   ],
   "source": [
    "import matplotlib.pyplot as plt\n",
    "from IPython.display import display\n",
    "\n",
    "ax = {}\n",
    "fig, (ax[0], ax[1], ax[2]) = plt.subplots(1, 3, figsize=(20, 3))\n",
    "for i, ptn in enumerate(['prob_dm1', 'prob_dm2', 'prob_dm3']):\n",
    "    prob_pivot_df = pd.pivot_table(data=prob_df, values=ptn, columns='freq_cat', index='age_cat')\n",
    "    prob_pivot_df = prob_pivot_df.reindex(['age~19', 'age20~34', 'age35~49', 'age50~'])\n",
    "    sns.heatmap(prob_pivot_df, vmin=0, vmax=1, annot=True, fmt='.0%', cmap='Blues', ax=ax[i])\n",
    "    ax[i].set_title(f\"Visit Probability of {ptn}\")\n",
    "\n",
    "plt.show()"
   ],
   "metadata": {
    "collapsed": false,
    "pycharm": {
     "name": "#%%\n"
    }
   }
  },
  {
   "cell_type": "markdown",
   "source": [
    "Data の傾向\n",
    "- 同じ Segment では、Coupon の金額が大きい Pattern の順に来店率が高くなる。\n",
    "- 同じ年齢区分では、昨年度来店数が多いほど来店率が高くなる。\n",
    "- 同じ昨年度来店回数区分では、20~34歳の来店率が高く、19歳以下は少ない。"
   ],
   "metadata": {
    "collapsed": false,
    "pycharm": {
     "name": "#%% md\n"
    }
   }
  },
  {
   "cell_type": "markdown",
   "source": [
    "## 数理 Modeling と実装"
   ],
   "metadata": {
    "collapsed": false,
    "pycharm": {
     "name": "#%% md\n"
    }
   }
  },
  {
   "cell_type": "markdown",
   "source": [
    "### 会員個別送付 Model\n",
    "- 会員ひとりひとりに対してどの Pattern の Direct mail（以下、DM） を送付するか勝手位する問題。\n",
    "- 各 Pattern の Direct mail をそれぞれの会員に送付するかどうか {0, 1} の二択の **離散変数** を考える。"
   ],
   "metadata": {
    "collapsed": false,
    "pycharm": {
     "name": "#%% md\n"
    }
   }
  },
  {
   "cell_type": "code",
   "execution_count": 11,
   "outputs": [],
   "source": [
    "import pulp\n",
    "\n",
    "problem = pulp.LpProblem(name='DiscountCouponProblem1', sense=pulp.LpMaximize)\n",
    "# Campaign の目的が割引 Coupon 付与による来客増加数を最大化することなので、sense=pulp.LpMaximize"
   ],
   "metadata": {
    "collapsed": false,
    "pycharm": {
     "name": "#%%\n"
    }
   }
  },
  {
   "cell_type": "markdown",
   "source": [
    "### 要件(1). 各会員に対してどの Pattern の DM を送付するか決定\n",
    "- 会員の List: *I*\n",
    "- Direct mail の Pattern の List: *M*(={1, 2, 3})\n",
    "    - 1: Sale のチラシのみ\n",
    "    - 2: Sale のチラシと、1,000円 Coupon\n",
    "    - 3: Sale のチラシと、2,000円 Coupon\n",
    "- 決定変数: *x_im ∊{0, 1} (i∊I, m∊M)*\n",
    "    会員 *i(∊I)* に対して Direct mail の Pattern *m(∊M)* を送付するばあに 1, しない場合に 0 をとる変数"
   ],
   "metadata": {
    "collapsed": false,
    "pycharm": {
     "name": "#%% md\n"
    }
   }
  },
  {
   "cell_type": "code",
   "execution_count": 12,
   "outputs": [],
   "source": [
    "# 会員 ID の List\n",
    "I = cust_df['customer_id'].tolist()"
   ],
   "metadata": {
    "collapsed": false,
    "pycharm": {
     "name": "#%%\n"
    }
   }
  },
  {
   "cell_type": "code",
   "execution_count": 13,
   "outputs": [],
   "source": [
    "# Direct mail の Pattern\n",
    "M = {1, 2, 3}"
   ],
   "metadata": {
    "collapsed": false,
    "pycharm": {
     "name": "#%%\n"
    }
   }
  },
  {
   "cell_type": "code",
   "execution_count": 14,
   "outputs": [
    {
     "data": {
      "text/plain": "15000"
     },
     "execution_count": 14,
     "metadata": {},
     "output_type": "execute_result"
    }
   ],
   "source": [
    "# (1) 各会員に対してどの Pattern の Direct mail を送付するか決定\n",
    "x_im = {}\n",
    "for i in I:\n",
    "    for m in M:\n",
    "        x_im[i, m] = pulp.LpVariable(name=f\"x_im{i},{m}\", cat='Binary')\n",
    "        # 決定変数は 0 か 1 をとる二値変数のため、cat='Binary'\n",
    "\n",
    "# 決定変数の数\n",
    "len(x_im)"
   ],
   "metadata": {
    "collapsed": false,
    "pycharm": {
     "name": "#%%\n"
    }
   }
  },
  {
   "cell_type": "markdown",
   "source": [
    "決定変数の数は、5,000顧客 × 3 Pattern で 15,000変数となっている。"
   ],
   "metadata": {
    "collapsed": false,
    "pycharm": {
     "name": "#%% md\n"
    }
   }
  },
  {
   "cell_type": "markdown",
   "source": [
    "### 要件(2). 各会員に対して送付する DM はいずれか 1 Pattern\n",
    "-   \\sum_m∊M(x_im = 1) (i∊I)"
   ],
   "metadata": {
    "collapsed": false,
    "pycharm": {
     "name": "#%% md\n"
    }
   }
  },
  {
   "cell_type": "code",
   "execution_count": 15,
   "outputs": [],
   "source": [
    "# (2). 各会員に対して送付する Direct mail はいずれか 1 Pattern\n",
    "for i in I:\n",
    "    problem += pulp.lpSum(x_im[i, m] for m in M) == 1"
   ],
   "metadata": {
    "collapsed": false,
    "pycharm": {
     "name": "#%%\n"
    }
   }
  },
  {
   "cell_type": "markdown",
   "source": [
    "### 要件(3). Coupon 付与による来客増加数を最大化\n",
    "- 定数: P_im∊\\[0, 1] (i∊I, m∊M)\n",
    "- 要件(3) Coupon 付与による来客増加数を最大化: \\sum_i∊I\\sum_m∊M((P_im - P_i1))x_im"
   ],
   "metadata": {
    "collapsed": false,
    "pycharm": {
     "name": "#%% md\n"
    }
   }
  },
  {
   "cell_type": "code",
   "execution_count": 16,
   "outputs": [
    {
     "data": {
      "text/plain": "   customer_id   age_cat freq_cat  segment_id  prob_dm1  prob_dm2  prob_dm3\n0            1  age20~34    freq2           7      0.42      0.55      0.93\n1          199  age20~34    freq2           7      0.42      0.55      0.93\n2          200  age20~34    freq2           7      0.42      0.55      0.93\n3          255  age20~34    freq2           7      0.42      0.55      0.93\n4          269  age20~34    freq2           7      0.42      0.55      0.93",
      "text/html": "<div>\n<style scoped>\n    .dataframe tbody tr th:only-of-type {\n        vertical-align: middle;\n    }\n\n    .dataframe tbody tr th {\n        vertical-align: top;\n    }\n\n    .dataframe thead th {\n        text-align: right;\n    }\n</style>\n<table border=\"1\" class=\"dataframe\">\n  <thead>\n    <tr style=\"text-align: right;\">\n      <th></th>\n      <th>customer_id</th>\n      <th>age_cat</th>\n      <th>freq_cat</th>\n      <th>segment_id</th>\n      <th>prob_dm1</th>\n      <th>prob_dm2</th>\n      <th>prob_dm3</th>\n    </tr>\n  </thead>\n  <tbody>\n    <tr>\n      <th>0</th>\n      <td>1</td>\n      <td>age20~34</td>\n      <td>freq2</td>\n      <td>7</td>\n      <td>0.42</td>\n      <td>0.55</td>\n      <td>0.93</td>\n    </tr>\n    <tr>\n      <th>1</th>\n      <td>199</td>\n      <td>age20~34</td>\n      <td>freq2</td>\n      <td>7</td>\n      <td>0.42</td>\n      <td>0.55</td>\n      <td>0.93</td>\n    </tr>\n    <tr>\n      <th>2</th>\n      <td>200</td>\n      <td>age20~34</td>\n      <td>freq2</td>\n      <td>7</td>\n      <td>0.42</td>\n      <td>0.55</td>\n      <td>0.93</td>\n    </tr>\n    <tr>\n      <th>3</th>\n      <td>255</td>\n      <td>age20~34</td>\n      <td>freq2</td>\n      <td>7</td>\n      <td>0.42</td>\n      <td>0.55</td>\n      <td>0.93</td>\n    </tr>\n    <tr>\n      <th>4</th>\n      <td>269</td>\n      <td>age20~34</td>\n      <td>freq2</td>\n      <td>7</td>\n      <td>0.42</td>\n      <td>0.55</td>\n      <td>0.93</td>\n    </tr>\n  </tbody>\n</table>\n</div>"
     },
     "execution_count": 16,
     "metadata": {},
     "output_type": "execute_result"
    }
   ],
   "source": [
    "# 各会員にそれぞれの Pattern の Direct mail を送付したときの来店率を得る。\n",
    "# (会員 Data と 来店率 Data を年齢区分と昨年度来店回数区分の列 Key として結合すると、各会員にそれぞれの Pattern の Direct mail を送付した時の来店率が求められる。)\n",
    "keys = ['age_cat', 'freq_cat']\n",
    "cust_prob_df = pd.merge(cust_df, prob_df, on=keys)\n",
    "cust_prob_df.head()"
   ],
   "metadata": {
    "collapsed": false,
    "pycharm": {
     "name": "#%%\n"
    }
   }
  },
  {
   "cell_type": "code",
   "execution_count": 17,
   "outputs": [
    {
     "data": {
      "text/plain": "       customer_id dm  prob\n0                1  1  0.42\n1              199  1  0.42\n2              200  1  0.42\n3              255  1  0.42\n4              269  1  0.42\n...            ... ..   ...\n14995         4474  3  0.74\n14996         4596  3  0.74\n14997         4720  3  0.74\n14998         4910  3  0.74\n14999         4947  3  0.74\n\n[15000 rows x 3 columns]",
      "text/html": "<div>\n<style scoped>\n    .dataframe tbody tr th:only-of-type {\n        vertical-align: middle;\n    }\n\n    .dataframe tbody tr th {\n        vertical-align: top;\n    }\n\n    .dataframe thead th {\n        text-align: right;\n    }\n</style>\n<table border=\"1\" class=\"dataframe\">\n  <thead>\n    <tr style=\"text-align: right;\">\n      <th></th>\n      <th>customer_id</th>\n      <th>dm</th>\n      <th>prob</th>\n    </tr>\n  </thead>\n  <tbody>\n    <tr>\n      <th>0</th>\n      <td>1</td>\n      <td>1</td>\n      <td>0.42</td>\n    </tr>\n    <tr>\n      <th>1</th>\n      <td>199</td>\n      <td>1</td>\n      <td>0.42</td>\n    </tr>\n    <tr>\n      <th>2</th>\n      <td>200</td>\n      <td>1</td>\n      <td>0.42</td>\n    </tr>\n    <tr>\n      <th>3</th>\n      <td>255</td>\n      <td>1</td>\n      <td>0.42</td>\n    </tr>\n    <tr>\n      <th>4</th>\n      <td>269</td>\n      <td>1</td>\n      <td>0.42</td>\n    </tr>\n    <tr>\n      <th>...</th>\n      <td>...</td>\n      <td>...</td>\n      <td>...</td>\n    </tr>\n    <tr>\n      <th>14995</th>\n      <td>4474</td>\n      <td>3</td>\n      <td>0.74</td>\n    </tr>\n    <tr>\n      <th>14996</th>\n      <td>4596</td>\n      <td>3</td>\n      <td>0.74</td>\n    </tr>\n    <tr>\n      <th>14997</th>\n      <td>4720</td>\n      <td>3</td>\n      <td>0.74</td>\n    </tr>\n    <tr>\n      <th>14998</th>\n      <td>4910</td>\n      <td>3</td>\n      <td>0.74</td>\n    </tr>\n    <tr>\n      <th>14999</th>\n      <td>4947</td>\n      <td>3</td>\n      <td>0.74</td>\n    </tr>\n  </tbody>\n</table>\n<p>15000 rows × 3 columns</p>\n</div>"
     },
     "metadata": {},
     "output_type": "display_data"
    }
   ],
   "source": [
    "# 会員に対して各 Pattern の Direct mail を送付したときの来店率が横に並んだ横持ちの状態の DataFrame を、１つの行に１つの Pattern の来店率のみを格納した縦持ちの形式に変換する。\n",
    "cust_prob_ver_dr = cust_prob_df.rename(columns={'prob_dm1': 1, 'prob_dm2': 2, 'prob_dm3': 3}).melt(\n",
    "    id_vars=['customer_id'],\n",
    "    value_vars=[1, 2, 3], var_name='dm',\n",
    "    value_name='prob')\n",
    "\n",
    "display(cust_prob_ver_dr)"
   ],
   "metadata": {
    "collapsed": false,
    "pycharm": {
     "name": "#%%\n"
    }
   }
  },
  {
   "cell_type": "code",
   "execution_count": 18,
   "outputs": [],
   "source": [
    "# 縦持ち Data から定数 P_im をの辞書を作成\n",
    "P_im = cust_prob_ver_dr.set_index(['customer_id', 'dm'])['prob'].to_dict()"
   ],
   "metadata": {
    "collapsed": false,
    "pycharm": {
     "name": "#%%\n"
    }
   }
  },
  {
   "cell_type": "code",
   "execution_count": 19,
   "outputs": [
    {
     "data": {
      "text/plain": "0.42"
     },
     "execution_count": 19,
     "metadata": {},
     "output_type": "execute_result"
    }
   ],
   "source": [
    "# P_im に (会員ID, DMの送付Pattern) の Tuple を key に渡すことで来店率を Value として取得できる。\n",
    "P_im[(1, 1)]  # 会員ID が 1 の会員に Pattern 1 の DM を送付したときの来店率"
   ],
   "metadata": {
    "collapsed": false,
    "pycharm": {
     "name": "#%%\n"
    }
   }
  },
  {
   "cell_type": "code",
   "execution_count": 20,
   "outputs": [],
   "source": [
    "# 目的関数(要件(3). Coupon 付与による来客増加数を最大化)を実装\n",
    "problem += pulp.lpSum((P_im[i, m] - P_im[i, 1]) * x_im[i, m] for i in I for m in [2, 3])\n",
    "# Coupon を付与しない場合には目的関数に影響を与えないため、DMの送付 Pattern 2, 3 のみ処理"
   ],
   "metadata": {
    "collapsed": false,
    "pycharm": {
     "name": "#%%\n"
    }
   }
  },
  {
   "cell_type": "markdown",
   "source": [
    "### 要件(4). 会員の予算消費期待値の合計は 100万以下\n",
    "- 定数: C_m∊{0, 1000, 2000} (m∊M)\n",
    "    DM の Pattern m(∊M) に付与する Coupon の金額\n",
    "- ∑_i∊-∑_m∊M-C_m-P_im-x_im ≦　1,000,000"
   ],
   "metadata": {
    "collapsed": false,
    "pycharm": {
     "name": "#%% md\n"
    }
   }
  },
  {
   "cell_type": "code",
   "execution_count": 21,
   "outputs": [],
   "source": [
    "# DM の Pattern を Key として Coupon の金額を返す dict(C_m) を定義する。\n",
    "C_m = {1: 0, 2: 1000, 3: 2000}"
   ],
   "metadata": {
    "collapsed": false,
    "pycharm": {
     "name": "#%%\n"
    }
   }
  },
  {
   "cell_type": "code",
   "execution_count": 22,
   "outputs": [],
   "source": [
    "# 要件(4). 顧客の消費する費用の期待値の合計は 1,000,000円以下\n",
    "problem += pulp.lpSum(C_m[m] * P_im[i, m] * x_im[i, m] for i in I for m in [2, 3]) <= 1_000_000"
   ],
   "metadata": {
    "collapsed": false,
    "pycharm": {
     "name": "#%%\n"
    }
   }
  },
  {
   "cell_type": "markdown",
   "source": [
    "### 要件(5). 各 Pattern の DM をそれぞれの Segment に属する 10% 以上に送付\n",
    "- 定数: N_s∊非負整数N　(s∊S)\n",
    "    Segment に属する会員数\n",
    "- 定数: Z_is∊{0, 1} (i∊I, s∊S)\n",
    "    会員 i(∊I) が Segment s(∊S) に属する場合 1, そうでない場合に 0 となる定数\n",
    "- 要件(5) 各 Pattern の DM それぞれの Segment に属する会員 10% 以上に送付"
   ],
   "metadata": {
    "collapsed": false,
    "pycharm": {
     "name": "#%% md\n"
    }
   }
  },
  {
   "cell_type": "code",
   "execution_count": 23,
   "outputs": [
    {
     "data": {
      "text/plain": "16"
     },
     "execution_count": 23,
     "metadata": {},
     "output_type": "execute_result"
    }
   ],
   "source": [
    "# Segment の List\n",
    "S = prob_df['segment_id'].tolist()\n",
    "len(S)"
   ],
   "metadata": {
    "collapsed": false,
    "pycharm": {
     "name": "#%%\n"
    }
   }
  },
  {
   "cell_type": "code",
   "execution_count": 24,
   "outputs": [
    {
     "name": "stdout",
     "output_type": "stream",
     "text": [
      "{1: 200, 2: 150, 3: 50, 4: 100, 5: 600, 6: 450, 7: 150, 8: 300, 9: 800, 10: 600, 11: 200, 12: 400, 13: 400, 14: 300, 15: 100, 16: 200}\n"
     ]
    }
   ],
   "source": [
    "# 各 Segment とその Segment に属する顧客数を対応させる Dict の作成\n",
    "N_s = cust_prob_df.groupby('segment_id')['customer_id'].count().to_dict()\n",
    "print(N_s)"
   ],
   "metadata": {
    "collapsed": false,
    "pycharm": {
     "name": "#%%\n"
    }
   }
  },
  {
   "cell_type": "code",
   "execution_count": 25,
   "outputs": [],
   "source": [
    "# 会員を Key として属する Segment を返す辞書\n",
    "S_i = cust_prob_df.set_index('customer_id')['segment_id'].to_dict()"
   ],
   "metadata": {
    "collapsed": false,
    "pycharm": {
     "name": "#%%\n"
    }
   }
  },
  {
   "cell_type": "code",
   "execution_count": 26,
   "outputs": [],
   "source": [
    "# (5) 各 Pattern の DM をそれぞれの Segment に属する会員数の 10% 以上送付\n",
    "for s in S:\n",
    "    for m in M:\n",
    "        problem += pulp.lpSum(x_im[i, m] for i in I if S_i[i] == s) >= 0.1 * N_s[s]"
   ],
   "metadata": {
    "collapsed": false,
    "pycharm": {
     "name": "#%%\n"
    }
   }
  },
  {
   "cell_type": "code",
   "execution_count": 27,
   "outputs": [
    {
     "name": "stdout",
     "output_type": "stream",
     "text": [
      "Status: Optimal\n",
      "目的関数値: 326.1\n",
      "計算時間: 8.37(秒)\n"
     ]
    }
   ],
   "source": [
    "# 計算時間を計算して求解\n",
    "import time\n",
    "\n",
    "time_start = time.time()\n",
    "status = problem.solve()\n",
    "time_stop = time.time()\n",
    "\n",
    "print(f\"Status: {pulp.LpStatus[status]}\")\n",
    "print(f\"目的関数値: {pulp.value(problem.objective):.4}\")\n",
    "print(f\"計算時間: {time_stop - time_start:.3}(秒)\")"
   ],
   "metadata": {
    "collapsed": false,
    "pycharm": {
     "name": "#%%\n"
    }
   }
  },
  {
   "cell_type": "markdown",
   "source": [
    "- 目的関数値（来客増加数）が「326.1」であることから 100万円投資して Campaign を行なうことで、全会員へ Coupon を付与しない DM を送付するよりも約326人多くの来客者を獲得できると解釈できる。\n",
    "<br>\n",
    "\n",
    "- CPA(cost per action: 今回の Campaign での投資効果を来店数 1人あたりの獲得費用)で換算すると、100万円 / 326人 より約 3,067円で 1会員の来客を増やすことができると評価できる。"
   ],
   "metadata": {
    "collapsed": false,
    "pycharm": {
     "name": "#%% md\n"
    }
   }
  },
  {
   "cell_type": "markdown",
   "source": [
    "### 実際に得られた解を確認して、どの Segment に対して Coupon が付与されているか確認"
   ],
   "metadata": {
    "collapsed": false,
    "pycharm": {
     "name": "#%% md\n"
    }
   }
  },
  {
   "cell_type": "code",
   "execution_count": 28,
   "outputs": [
    {
     "data": {
      "text/plain": "   send_dm1  send_dm2  send_dm3\n0       0.0       1.0       0.0\n1       0.0       1.0       0.0\n2       0.0       1.0       0.0\n3       0.0       0.0       1.0\n4       0.0       1.0       0.0",
      "text/html": "<div>\n<style scoped>\n    .dataframe tbody tr th:only-of-type {\n        vertical-align: middle;\n    }\n\n    .dataframe tbody tr th {\n        vertical-align: top;\n    }\n\n    .dataframe thead th {\n        text-align: right;\n    }\n</style>\n<table border=\"1\" class=\"dataframe\">\n  <thead>\n    <tr style=\"text-align: right;\">\n      <th></th>\n      <th>send_dm1</th>\n      <th>send_dm2</th>\n      <th>send_dm3</th>\n    </tr>\n  </thead>\n  <tbody>\n    <tr>\n      <th>0</th>\n      <td>0.0</td>\n      <td>1.0</td>\n      <td>0.0</td>\n    </tr>\n    <tr>\n      <th>1</th>\n      <td>0.0</td>\n      <td>1.0</td>\n      <td>0.0</td>\n    </tr>\n    <tr>\n      <th>2</th>\n      <td>0.0</td>\n      <td>1.0</td>\n      <td>0.0</td>\n    </tr>\n    <tr>\n      <th>3</th>\n      <td>0.0</td>\n      <td>0.0</td>\n      <td>1.0</td>\n    </tr>\n    <tr>\n      <th>4</th>\n      <td>0.0</td>\n      <td>1.0</td>\n      <td>0.0</td>\n    </tr>\n  </tbody>\n</table>\n</div>"
     },
     "execution_count": 28,
     "metadata": {},
     "output_type": "execute_result"
    }
   ],
   "source": [
    "# 会員 i に対してどの Pattern の DM を送付するかの解 x_im[i, m].value() を加工して DataFrame にする\n",
    "send_dm_df = pd.DataFrame([[x_im[i, m].value() for m in M] for i in I], columns=['send_dm1', 'send_dm2', 'send_dm3'])\n",
    "send_dm_df.head()"
   ],
   "metadata": {
    "collapsed": false,
    "pycharm": {
     "name": "#%%\n"
    }
   }
  },
  {
   "cell_type": "code",
   "execution_count": 29,
   "outputs": [
    {
     "data": {
      "text/plain": "   customer_id   age_cat freq_cat  send_dm1  send_dm2  send_dm3\n0            1  age20~34    freq2       0.0       1.0       0.0\n1            2  age35~49    freq0       0.0       1.0       0.0\n2            3  age35~49    freq0       0.0       1.0       0.0\n3            4    age~19    freq0       0.0       0.0       1.0\n4            5  age35~49    freq0       0.0       1.0       0.0",
      "text/html": "<div>\n<style scoped>\n    .dataframe tbody tr th:only-of-type {\n        vertical-align: middle;\n    }\n\n    .dataframe tbody tr th {\n        vertical-align: top;\n    }\n\n    .dataframe thead th {\n        text-align: right;\n    }\n</style>\n<table border=\"1\" class=\"dataframe\">\n  <thead>\n    <tr style=\"text-align: right;\">\n      <th></th>\n      <th>customer_id</th>\n      <th>age_cat</th>\n      <th>freq_cat</th>\n      <th>send_dm1</th>\n      <th>send_dm2</th>\n      <th>send_dm3</th>\n    </tr>\n  </thead>\n  <tbody>\n    <tr>\n      <th>0</th>\n      <td>1</td>\n      <td>age20~34</td>\n      <td>freq2</td>\n      <td>0.0</td>\n      <td>1.0</td>\n      <td>0.0</td>\n    </tr>\n    <tr>\n      <th>1</th>\n      <td>2</td>\n      <td>age35~49</td>\n      <td>freq0</td>\n      <td>0.0</td>\n      <td>1.0</td>\n      <td>0.0</td>\n    </tr>\n    <tr>\n      <th>2</th>\n      <td>3</td>\n      <td>age35~49</td>\n      <td>freq0</td>\n      <td>0.0</td>\n      <td>1.0</td>\n      <td>0.0</td>\n    </tr>\n    <tr>\n      <th>3</th>\n      <td>4</td>\n      <td>age~19</td>\n      <td>freq0</td>\n      <td>0.0</td>\n      <td>0.0</td>\n      <td>1.0</td>\n    </tr>\n    <tr>\n      <th>4</th>\n      <td>5</td>\n      <td>age35~49</td>\n      <td>freq0</td>\n      <td>0.0</td>\n      <td>1.0</td>\n      <td>0.0</td>\n    </tr>\n  </tbody>\n</table>\n</div>"
     },
     "execution_count": 29,
     "metadata": {},
     "output_type": "execute_result"
    }
   ],
   "source": [
    "# 送付 Pattern の Columns で、それぞれの会員に対して各 Pattern の DM を送付するかしないかわかるようにする\n",
    "cust_send_df = pd.concat([cust_df[['customer_id', 'age_cat', 'freq_cat']], send_dm_df], axis=1)\n",
    "cust_send_df.head()"
   ],
   "metadata": {
    "collapsed": false,
    "pycharm": {
     "name": "#%%\n"
    }
   }
  },
  {
   "cell_type": "markdown",
   "source": [
    "### 各 Segment に対するそれぞれの DM の送付率と送付数を可視化"
   ],
   "metadata": {
    "collapsed": false,
    "pycharm": {
     "name": "#%% md\n"
    }
   }
  },
  {
   "cell_type": "code",
   "execution_count": 30,
   "outputs": [
    {
     "data": {
      "text/plain": "<Figure size 1440x216 with 6 Axes>",
      "image/png": "[encoded data removed]"
     },
     "metadata": {
      "needs_background": "light"
     },
     "output_type": "display_data"
    }
   ],
   "source": [
    "# 各 Segment に対するそれぞれの DM の送付率\n",
    "ax = {}\n",
    "fig, (ax[0], ax[1], ax[2]) = plt.subplots(1, 3, figsize=(20, 3))\n",
    "for i, ptn in enumerate(['send_dm1', 'send_dm2', 'send_dm3']):\n",
    "    cust_send_pivot_df = pd.pivot_table(data=cust_send_df, values=ptn, columns='freq_cat', index='age_cat',\n",
    "                                        aggfunc='mean')\n",
    "    cust_send_pivot_df = cust_send_pivot_df.reindex(['age~19', 'age20~34', 'age35~49', 'age50~'])\n",
    "    sns.heatmap(cust_send_pivot_df, annot=True, fmt='.1%', cmap='Blues', vmin=0, vmax=1, ax=ax[i])\n",
    "    ax[i].set_title(f\"{ptn}_rate\")\n",
    "plt.show()"
   ],
   "metadata": {
    "collapsed": false,
    "pycharm": {
     "name": "#%%\n"
    }
   }
  },
  {
   "cell_type": "markdown",
   "source": [],
   "metadata": {
    "collapsed": false,
    "pycharm": {
     "name": "#%% md\n"
    }
   },
   "outputs": []
  },
  {
   "cell_type": "code",
   "execution_count": 31,
   "outputs": [
    {
     "data": {
      "text/plain": "<Figure size 1440x216 with 6 Axes>",
      "image/png": "[encoded data removed]"
     },
     "metadata": {
      "needs_background": "light"
     },
     "output_type": "display_data"
    }
   ],
   "source": [
    "# 各 Segment に対するそれぞれの DM の送付数\n",
    "ax = {}\n",
    "fig, (ax[0], ax[1], ax[2]) = plt.subplots(1, 3, figsize=(20, 3))\n",
    "for i, ptn in enumerate(['send_dm1', 'send_dm2', 'send_dm3']):\n",
    "    cust_send_pivot_df = pd.pivot_table(data=cust_send_df, values=ptn, columns='freq_cat', index='age_cat',\n",
    "                                        aggfunc='sum')\n",
    "    cust_send_pivot_df = cust_send_pivot_df.reindex(['age~19', 'age20~34', 'age35~49', 'age50~'])\n",
    "    sns.heatmap(cust_send_pivot_df, annot=True, fmt='.1f', cmap='Blues', vmax=800, ax=ax[i])\n",
    "    ax[i].set_title(f'{ptn}_num')\n",
    "plt.show()"
   ],
   "metadata": {
    "collapsed": false,
    "pycharm": {
     "name": "#%%\n"
    }
   }
  },
  {
   "cell_type": "markdown",
   "source": [
    "- 要件(5). の条件どおり、すべての Segment に対して各 Pattern の DM が 10%以上送付されている。\n",
    "- freq0 の Segment では 2,000円の Coupon が 62% と多い。\n",
    "- 年齢区分は age~19, age35~49 で昨年来店回数区分は freq0 の Segment会員では、1,000円 Coupon が約 80%と多く送付されている。"
   ],
   "metadata": {
    "collapsed": false,
    "pycharm": {
     "name": "#%% md\n"
    }
   }
  },
  {
   "cell_type": "markdown",
   "source": [
    "### Segment 送付 Model\n",
    "- 会員の Segment に対して各 Pattern の DM をどの程度送付するかを決定する問題。\n",
    "- 各 Pattern の DM を各 Segment にどの程度の割合で送付するか、という\\[0, 1](0 から 1 の連続変数)を決定する。"
   ],
   "metadata": {
    "collapsed": false,
    "pycharm": {
     "name": "#%% md\n"
    }
   }
  },
  {
   "cell_type": "code",
   "execution_count": 32,
   "outputs": [],
   "source": [
    "# 数理 Model の Instance を作成\n",
    "problem = pulp.LpProblem(name='DiscountCouponProblem2', sense=pulp.LpMaximize)"
   ],
   "metadata": {
    "collapsed": false,
    "pycharm": {
     "name": "#%%\n"
    }
   }
  },
  {
   "cell_type": "markdown",
   "source": [
    "### 要件(1). 各会員に対してどの Pattern の DM を送付するかを決定\n",
    "同じ Segment に属する会員の来店率の見積もりは変わらないことを利用して、\n",
    "- 各会員に対してどの Pattern の DM を送付するか\n",
    "- 各 Segment に対してそれぞれの Pattern の DM をどの程度送付するか\n",
    "\n",
    "という視点で捉える。"
   ],
   "metadata": {
    "collapsed": false,
    "pycharm": {
     "name": "#%% md\n"
    }
   }
  },
  {
   "cell_type": "markdown",
   "source": [
    "決定変数: *x_sm∊\\[0, 1](s∊S, m∊M)*\n",
    "- Segment *s(∊S)* に対する DM の Pattern *m(∊M)* の送付率。"
   ],
   "metadata": {
    "collapsed": false,
    "pycharm": {
     "name": "#%% md\n"
    }
   }
  },
  {
   "cell_type": "code",
   "execution_count": 33,
   "outputs": [
    {
     "data": {
      "text/plain": "48"
     },
     "execution_count": 33,
     "metadata": {},
     "output_type": "execute_result"
    }
   ],
   "source": [
    "x_sm = {}\n",
    "# [0, 1] の変数を宣言\n",
    "for s in S:\n",
    "    for m in M:\n",
    "        x_sm[s, m] = pulp.LpVariable(name=f'x_sm({s},{m})', lowBound=0, upBound=1, cat='Continuous')\n",
    "len(x_sm)"
   ],
   "metadata": {
    "collapsed": false,
    "pycharm": {
     "name": "#%%\n"
    }
   }
  },
  {
   "cell_type": "markdown",
   "source": [
    "Segment数 16 と DM の Pattern数 3 の積で 48変数となった。"
   ],
   "metadata": {
    "collapsed": false,
    "pycharm": {
     "name": "#%% md\n"
    }
   }
  },
  {
   "cell_type": "markdown",
   "source": [
    "### 要件(2). 各会員に対して送付する DM はいずれか 1 Pattern\n",
    "\n",
    "*∑_m∊M(x_sm) = 1 (s∊S)*"
   ],
   "metadata": {
    "collapsed": false,
    "pycharm": {
     "name": "#%% md\n"
    }
   }
  },
  {
   "cell_type": "markdown",
   "source": [
    "各 Segment に送付する DM の Pattern の送付率の和が 100% であることになる。"
   ],
   "metadata": {
    "collapsed": false,
    "pycharm": {
     "name": "#%% md\n"
    }
   }
  },
  {
   "cell_type": "code",
   "execution_count": 34,
   "outputs": [],
   "source": [
    "for s in S:\n",
    "    problem += pulp.lpSum(x_sm[s, m] for m in M) == 1"
   ],
   "metadata": {
    "collapsed": false,
    "pycharm": {
     "name": "#%%\n"
    }
   }
  },
  {
   "cell_type": "markdown",
   "source": [
    "### 要件(3). Coupon 付与による来客増加数を最大化\n",
    "定数: *P_sm∊\\[0,1] (s∊S, m∊M)*\n",
    "- Segment s(∊S) の会員に対して DM Pattern m(∊M) で送付したときの来店率\n",
    "\n",
    "要件(3). Coupon 付与による来客増加数を最大化\n",
    "∑_s∊S･∑_m∊M･N_s(P_sm - P_s1)･x_sm"
   ],
   "metadata": {
    "collapsed": false,
    "pycharm": {
     "name": "#%% md\n"
    }
   }
  },
  {
   "cell_type": "code",
   "execution_count": 35,
   "outputs": [],
   "source": [
    "# 定数 P_sm の定義\n",
    "prob_ver_df = prob_df.rename(columns={'prob_dm1': 1, 'prob_dm2': 2, 'prob_dm3': 3}).melt(id_vars=['segment_id'],\n",
    "                                                                                         value_vars=[1, 2, 3],\n",
    "                                                                                         var_name='dm',\n",
    "                                                                                         value_name='prob')\n",
    "P_sm = prob_ver_df.set_index(['segment_id', 'dm'])['prob'].to_dict()"
   ],
   "metadata": {
    "collapsed": false,
    "pycharm": {
     "name": "#%%\n"
    }
   }
  },
  {
   "cell_type": "code",
   "execution_count": 36,
   "outputs": [],
   "source": [
    "# 目的関数の実装\n",
    "problem += pulp.lpSum(N_s[s] * (P_sm[s, m] - P_sm[s, 1]) * x_sm[s, m] for s in S for m in [2, 3])"
   ],
   "metadata": {
    "collapsed": false,
    "pycharm": {
     "name": "#%%\n"
    }
   }
  },
  {
   "cell_type": "markdown",
   "source": [
    "### 要件(4) 会員の予算消費期待値の合計は 100万円以下\n",
    "*∑_s∊S･∑_m∊M･C_m･N_s･P_sm･x_sm <= 1,000,000*"
   ],
   "metadata": {
    "collapsed": false,
    "pycharm": {
     "name": "#%% md\n"
    }
   }
  },
  {
   "cell_type": "code",
   "execution_count": 37,
   "outputs": [],
   "source": [
    "problem += pulp.lpSum(C_m[m] * N_s[s] * P_sm[s, m] * x_sm[s, m] for s in S for m in [2, 3]) <= 1_000_000"
   ],
   "metadata": {
    "collapsed": false,
    "pycharm": {
     "name": "#%%\n"
    }
   }
  },
  {
   "cell_type": "markdown",
   "source": [
    "### 要件(5). 各 Pattern の DM がそれぞれの Segment に属する会員数の 10 % 以上送付\n",
    "*x_sm ≧ 0.1 (s∊S, m∊M)*"
   ],
   "metadata": {
    "collapsed": false,
    "pycharm": {
     "name": "#%% md\n"
    }
   }
  },
  {
   "cell_type": "code",
   "execution_count": 38,
   "outputs": [],
   "source": [
    "for s in S:\n",
    "    for m in M:\n",
    "        problem += x_sm[s, m] >= 0.1"
   ],
   "metadata": {
    "collapsed": false,
    "pycharm": {
     "name": "#%%\n"
    }
   }
  },
  {
   "cell_type": "code",
   "execution_count": 39,
   "outputs": [
    {
     "name": "stdout",
     "output_type": "stream",
     "text": [
      "Status: Optimal\n",
      "目的関数: 326.1\n",
      "計算時間: 0.029(秒)\n"
     ]
    }
   ],
   "source": [
    "# 求解\n",
    "time_start = time.time()\n",
    "status = problem.solve()\n",
    "time_stop = time.time()\n",
    "\n",
    "print(f\"Status: {pulp.LpStatus[status]}\")\n",
    "print(f\"目的関数: {pulp.value(problem.objective):.4}\")\n",
    "print(f\"計算時間: {(time_stop - time_start):.3}(秒)\")"
   ],
   "metadata": {
    "collapsed": false,
    "pycharm": {
     "name": "#%%\n"
    }
   }
  },
  {
   "cell_type": "code",
   "execution_count": 39,
   "outputs": [],
   "source": [],
   "metadata": {
    "collapsed": false,
    "pycharm": {
     "name": "#%%\n"
    }
   }
  },
  {
   "cell_type": "code",
   "execution_count": 32,
   "outputs": [
    {
     "data": {
      "text/plain": "   send_dm1  send_dm2  send_dm3\n0       0.0       1.0       0.0\n1       0.0       1.0       0.0\n2       0.0       1.0       0.0\n3       0.0       0.0       1.0\n4       0.0       1.0       0.0",
      "text/html": "<div>\n<style scoped>\n    .dataframe tbody tr th:only-of-type {\n        vertical-align: middle;\n    }\n\n    .dataframe tbody tr th {\n        vertical-align: top;\n    }\n\n    .dataframe thead th {\n        text-align: right;\n    }\n</style>\n<table border=\"1\" class=\"dataframe\">\n  <thead>\n    <tr style=\"text-align: right;\">\n      <th></th>\n      <th>send_dm1</th>\n      <th>send_dm2</th>\n      <th>send_dm3</th>\n    </tr>\n  </thead>\n  <tbody>\n    <tr>\n      <th>0</th>\n      <td>0.0</td>\n      <td>1.0</td>\n      <td>0.0</td>\n    </tr>\n    <tr>\n      <th>1</th>\n      <td>0.0</td>\n      <td>1.0</td>\n      <td>0.0</td>\n    </tr>\n    <tr>\n      <th>2</th>\n      <td>0.0</td>\n      <td>1.0</td>\n      <td>0.0</td>\n    </tr>\n    <tr>\n      <th>3</th>\n      <td>0.0</td>\n      <td>0.0</td>\n      <td>1.0</td>\n    </tr>\n    <tr>\n      <th>4</th>\n      <td>0.0</td>\n      <td>1.0</td>\n      <td>0.0</td>\n    </tr>\n  </tbody>\n</table>\n</div>"
     },
     "execution_count": 32,
     "metadata": {},
     "output_type": "execute_result"
    }
   ],
   "source": [
    "# 会員 i に対してどの Pattern の DM を送付するかの解 x_im[i, m].value() を加工して DataFrame にする\n",
    "send_dm_df = pd.DataFrame([[x_im[i, m].value() for m in M] for i in I], columns=['send_dm1', 'send_dm2', 'send_dm3'])\n",
    "send_dm_df.head()"
   ],
   "metadata": {
    "collapsed": false,
    "pycharm": {
     "name": "#%%\n"
    }
   }
  },
  {
   "cell_type": "code",
   "execution_count": 35,
   "outputs": [
    {
     "data": {
      "text/plain": "   customer_id   age_cat freq_cat  send_dm1  send_dm2  send_dm3\n0            1  age20~34    freq2       0.0       1.0       0.0\n1            2  age35~49    freq0       0.0       1.0       0.0\n2            3  age35~49    freq0       0.0       1.0       0.0\n3            4    age~19    freq0       0.0       0.0       1.0\n4            5  age35~49    freq0       0.0       1.0       0.0",
      "text/html": "<div>\n<style scoped>\n    .dataframe tbody tr th:only-of-type {\n        vertical-align: middle;\n    }\n\n    .dataframe tbody tr th {\n        vertical-align: top;\n    }\n\n    .dataframe thead th {\n        text-align: right;\n    }\n</style>\n<table border=\"1\" class=\"dataframe\">\n  <thead>\n    <tr style=\"text-align: right;\">\n      <th></th>\n      <th>customer_id</th>\n      <th>age_cat</th>\n      <th>freq_cat</th>\n      <th>send_dm1</th>\n      <th>send_dm2</th>\n      <th>send_dm3</th>\n    </tr>\n  </thead>\n  <tbody>\n    <tr>\n      <th>0</th>\n      <td>1</td>\n      <td>age20~34</td>\n      <td>freq2</td>\n      <td>0.0</td>\n      <td>1.0</td>\n      <td>0.0</td>\n    </tr>\n    <tr>\n      <th>1</th>\n      <td>2</td>\n      <td>age35~49</td>\n      <td>freq0</td>\n      <td>0.0</td>\n      <td>1.0</td>\n      <td>0.0</td>\n    </tr>\n    <tr>\n      <th>2</th>\n      <td>3</td>\n      <td>age35~49</td>\n      <td>freq0</td>\n      <td>0.0</td>\n      <td>1.0</td>\n      <td>0.0</td>\n    </tr>\n    <tr>\n      <th>3</th>\n      <td>4</td>\n      <td>age~19</td>\n      <td>freq0</td>\n      <td>0.0</td>\n      <td>0.0</td>\n      <td>1.0</td>\n    </tr>\n    <tr>\n      <th>4</th>\n      <td>5</td>\n      <td>age35~49</td>\n      <td>freq0</td>\n      <td>0.0</td>\n      <td>1.0</td>\n      <td>0.0</td>\n    </tr>\n  </tbody>\n</table>\n</div>"
     },
     "execution_count": 35,
     "metadata": {},
     "output_type": "execute_result"
    }
   ],
   "source": [
    "# 送付 Pattern の Columns で、それぞれの会員に対して各 Pattern の DM を送付するかしないかわかるようにする\n",
    "cust_send_df = pd.concat([cust_df[['customer_id', 'age_cat', 'freq_cat']], send_dm_df], axis=1)\n",
    "cust_send_df.head()"
   ],
   "metadata": {
    "collapsed": false,
    "pycharm": {
     "name": "#%%\n"
    }
   }
  },
  {
   "cell_type": "markdown",
   "source": [
    "### 各 Segment に対するそれぞれの DM の送付率と送付数を可視化"
   ],
   "metadata": {
    "collapsed": false,
    "pycharm": {
     "name": "#%% md\n"
    }
   }
  },
  {
   "cell_type": "code",
   "execution_count": 37,
   "outputs": [
    {
     "data": {
      "text/plain": "<Figure size 1440x216 with 6 Axes>",
      "image/png": "[encoded data removed]"
     },
     "metadata": {
      "needs_background": "light"
     },
     "output_type": "display_data"
    }
   ],
   "source": [
    "# 各 Segment に対するそれぞれの DM の送付率\n",
    "ax = {}\n",
    "fig, (ax[0], ax[1], ax[2]) = plt.subplots(1, 3, figsize=(20, 3))\n",
    "for i, ptn in enumerate(['send_dm1', 'send_dm2', 'send_dm3']):\n",
    "    cust_send_pivot_df = pd.pivot_table(data=cust_send_df, values=ptn, columns='freq_cat', index='age_cat',\n",
    "                                        aggfunc='mean')\n",
    "    cust_send_pivot_df = cust_send_pivot_df.reindex(['age~19', 'age20~34', 'age35~49', 'age50~'])\n",
    "    sns.heatmap(cust_send_pivot_df, annot=True, fmt='.1%', cmap='Blues', vmin=0, vmax=1, ax=ax[i])\n",
    "    ax[i].set_title(f\"{ptn}_rate\")\n",
    "plt.show()"
   ],
   "metadata": {
    "collapsed": false,
    "pycharm": {
     "name": "#%%\n"
    }
   }
  },
  {
   "cell_type": "code",
   "execution_count": null,
   "outputs": [],
   "source": [
    "# TODO: 各 Segment に対するそれぞれの DM の送付数"
   ],
   "metadata": {
    "collapsed": false,
    "pycharm": {
     "name": "#%%\n"
    }
   }
  }
 ],
 "metadata": {
  "kernelspec": {
   "display_name": "Python 3",
   "language": "python",
   "name": "python3"
  },
  "language_info": {
   "codemirror_mode": {
    "name": "ipython",
    "version": 2
   },
   "file_extension": ".py",
   "mimetype": "text/x-python",
   "name": "python",
   "nbconvert_exporter": "python",
   "pygments_lexer": "ipython2",
   "version": "2.7.6"
  }
 },
 "nbformat": 4,
 "nbformat_minor": 0
}