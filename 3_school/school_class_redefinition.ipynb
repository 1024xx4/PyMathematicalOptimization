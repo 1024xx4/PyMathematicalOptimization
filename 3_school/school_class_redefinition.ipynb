{
 "cells": [
  {
   "cell_type": "markdown",
   "source": [
    "# 学校の Class 編成（再定義）"
   ],
   "metadata": {
    "collapsed": false,
    "pycharm": {
     "name": "#%% md\n"
    }
   }
  },
  {
   "cell_type": "code",
   "execution_count": 8,
   "outputs": [],
   "source": [
    "import matplotlib.pyplot as plt\n",
    "import pandas as pd\n",
    "import pulp"
   ],
   "metadata": {
    "collapsed": false,
    "pycharm": {
     "name": "#%%\n"
    }
   }
  },
  {
   "cell_type": "code",
   "execution_count": 9,
   "outputs": [],
   "source": [
    "s_df = pd.read_csv('students.csv')\n",
    "s_pair_df = pd.read_csv('student_pairs.csv')"
   ],
   "metadata": {
    "collapsed": false,
    "pycharm": {
     "name": "#%%\n"
    }
   }
  },
  {
   "cell_type": "code",
   "execution_count": 10,
   "outputs": [],
   "source": [
    "prob = pulp.LpProblem('ClassAssignmentProblem', pulp.LpMaximize)"
   ],
   "metadata": {
    "collapsed": false,
    "pycharm": {
     "name": "#%%\n"
    }
   }
  },
  {
   "cell_type": "code",
   "execution_count": 11,
   "outputs": [],
   "source": [
    "# 生徒の List\n",
    "S = s_df['student_id'].tolist()\n",
    "\n",
    "# Class の List\n",
    "C = ['A', 'B', 'C', 'D', 'E', 'F', 'G', 'H']\n",
    "\n",
    "# 生徒と Class の Pair の List\n",
    "SC = [(s, c) for s in S for c in C]"
   ],
   "metadata": {
    "collapsed": false,
    "pycharm": {
     "name": "#%%\n"
    }
   }
  },
  {
   "cell_type": "code",
   "execution_count": 12,
   "outputs": [],
   "source": [
    "# 生徒をどの Class に割り当てるを変数として定義\n",
    "x = pulp.LpVariable.dicts('x', SC, cat='Binary')"
   ],
   "metadata": {
    "collapsed": false,
    "pycharm": {
     "name": "#%%\n"
    }
   }
  },
  {
   "cell_type": "code",
   "execution_count": 13,
   "outputs": [],
   "source": [
    "# 1). 各生徒は１つの Class に割り当てる\n",
    "for s in S:\n",
    "    prob += pulp.lpSum([x[s, c] for c in C]) == 1"
   ],
   "metadata": {
    "collapsed": false,
    "pycharm": {
     "name": "#%%\n"
    }
   }
  },
  {
   "cell_type": "code",
   "execution_count": 14,
   "outputs": [],
   "source": [
    "# 2). 各 Class の生徒の人数は 39人以上、40人以下とする\n",
    "for c in C:\n",
    "    prob += pulp.lpSum([x[s, c] for s in S]) >= 39\n",
    "    prob += pulp.lpSum([x[s, c]] for s in S) <= 40"
   ],
   "metadata": {
    "collapsed": false,
    "pycharm": {
     "name": "#%%\n"
    }
   }
  },
  {
   "cell_type": "code",
   "execution_count": 15,
   "outputs": [],
   "source": [
    "# 男子生徒の List\n",
    "S_male = [row.student_id for row in s_df.itertuples() if row.gender == 1]\n",
    "\n",
    "# 女子生徒の List\n",
    "S_female = [row.student_id for row in s_df.itertuples() if row.gender == 0]"
   ],
   "metadata": {
    "collapsed": false,
    "pycharm": {
     "name": "#%%\n"
    }
   }
  },
  {
   "cell_type": "code",
   "execution_count": 16,
   "outputs": [],
   "source": [
    "# 3). 各 Class の男子生徒、女子生徒の人数は 20人以下とする\n",
    "for c in C:\n",
    "    prob += pulp.lpSum([x[s, c] for s in S_male]) <= 20\n",
    "    prob += pulp.lpSum([x[s, c] for s in S_female]) <= 20"
   ],
   "metadata": {
    "collapsed": false,
    "pycharm": {
     "name": "#%%\n"
    }
   }
  },
  {
   "cell_type": "code",
   "execution_count": 17,
   "outputs": [],
   "source": [
    "# 学力を辞書表現に変換\n",
    "score = {row.student_id: row.score for row in s_df.itertuples()}\n",
    "\n",
    "# 平均点の算出\n",
    "score_mean = s_df['score'].mean()"
   ],
   "metadata": {
    "collapsed": false,
    "pycharm": {
     "name": "#%%\n"
    }
   }
  },
  {
   "cell_type": "code",
   "execution_count": 18,
   "outputs": [],
   "source": [
    "# 4). 各 Class の学力試験の平均点は学年平均点±10点とする\n",
    "for c in C:\n",
    "    prob += pulp.lpSum([x[s, c] * score[s] for s in S]) >= (score_mean - 10) * pulp.lpSum([x[s, c] for s in S])\n",
    "    prob += pulp.lpSum([x[s, c] * score[s] for s in S]) <= (score_mean + 10) * pulp.lpSum([x[s, c] for s in S])"
   ],
   "metadata": {
    "collapsed": false,
    "pycharm": {
     "name": "#%%\n"
    }
   }
  },
  {
   "cell_type": "code",
   "execution_count": 19,
   "outputs": [],
   "source": [
    "# Leader 気質の生徒の集合\n",
    "S_leader = [row.student_id for row in s_df.itertuples() if row.leader_flag == 1]"
   ],
   "metadata": {
    "collapsed": false,
    "pycharm": {
     "name": "#%%\n"
    }
   }
  },
  {
   "cell_type": "code",
   "execution_count": 20,
   "outputs": [],
   "source": [
    "# 5). 各 Class に Leader 気質の生徒を２人以上割り当てる\n",
    "for c in C:\n",
    "    prob += pulp.lpSum([x[s, c] for s in S_leader]) >= 2"
   ],
   "metadata": {
    "collapsed": false,
    "pycharm": {
     "name": "#%%\n"
    }
   }
  },
  {
   "cell_type": "code",
   "execution_count": 21,
   "outputs": [],
   "source": [
    "# 特別な支援が必要な生徒の集合\n",
    "S_support = [row.student_id for row in s_df.itertuples() if row.support_flag == 1]"
   ],
   "metadata": {
    "collapsed": false,
    "pycharm": {
     "name": "#%%\n"
    }
   }
  },
  {
   "cell_type": "code",
   "execution_count": 22,
   "outputs": [],
   "source": [
    "# 6). 特別な支援が必要な生徒は各 Class に１人以下とする\n",
    "for c in C:\n",
    "    prob += pulp.lpSum([x[s, c] for s in S_support]) <= 1"
   ],
   "metadata": {
    "collapsed": false,
    "pycharm": {
     "name": "#%%\n"
    }
   }
  },
  {
   "cell_type": "code",
   "execution_count": 23,
   "outputs": [],
   "source": [
    "# 生徒の特定 Pair list\n",
    "SS = [(row.student_id1, row.student_id2) for row in s_pair_df.itertuples()]"
   ],
   "metadata": {
    "collapsed": false,
    "pycharm": {
     "name": "#%%\n"
    }
   }
  },
  {
   "cell_type": "code",
   "execution_count": 24,
   "outputs": [],
   "source": [
    "# 7). 特定 Pair の生徒は同一 Class に割り当てない\n",
    "for row in s_pair_df.itertuples():\n",
    "    s1 = row.student_id1\n",
    "    s2 = row.student_id2\n",
    "    for c in C:\n",
    "        prob += x[s, c] + x[s2, c] <= 1"
   ],
   "metadata": {
    "collapsed": false,
    "pycharm": {
     "name": "#%%\n"
    }
   }
  },
  {
   "cell_type": "code",
   "execution_count": 25,
   "outputs": [],
   "source": [
    "# 初期 Class 編成を作成\n",
    "s_df['score_rank'] = s_df['score'].rank(ascending=False, method='first')\n",
    "class_dic = {0: 'A', 1: 'B', 2: 'C', 3: 'D', 4: 'E', 5: 'F', 6: 'G', 7: 'H'}\n",
    "s_df['init_assigned_class'] = s_df['score_rank'].map(lambda x: x % 8).map(class_dic)\n",
    "init_flag = {(s, c): 0 for s in S for c in C}\n",
    "for row in s_df.itertuples():\n",
    "    init_flag[row.student_id, row.init_assigned_class] = 1"
   ],
   "metadata": {
    "collapsed": false,
    "pycharm": {
     "name": "#%%\n"
    }
   }
  },
  {
   "cell_type": "code",
   "execution_count": 26,
   "outputs": [],
   "source": [
    "# 目的関数: 初期 Class 編成とできるだけ一致させる\n",
    "prob += pulp.lpSum([x[s, c] * init_flag[s, c] for s, c in SC])"
   ],
   "metadata": {
    "collapsed": false,
    "pycharm": {
     "name": "#%%\n"
    }
   }
  },
  {
   "cell_type": "code",
   "execution_count": 27,
   "outputs": [
    {
     "name": "stdout",
     "output_type": "stream",
     "text": [
      "status: Optimal\n"
     ]
    }
   ],
   "source": [
    "# 求解\n",
    "status = prob.solve()\n",
    "print(f'status: {pulp.LpStatus[status]}')"
   ],
   "metadata": {
    "collapsed": false,
    "pycharm": {
     "name": "#%%\n"
    }
   }
  },
  {
   "cell_type": "code",
   "execution_count": 28,
   "outputs": [
    {
     "name": "stdout",
     "output_type": "stream",
     "text": [
      "Class: A\n",
      "Num: 39\n",
      "Student: [23, 56, 68, 82, 89, 94, 102, 113, 115, 117, 123, 124, 127, 140, 147, 172, 173, 185, 186, 204, 210, 228, 255, 259, 273, 274, 277, 280, 285, 288, 289, 292, 295, 297, 304, 308, 311, 313, 316]\n",
      "\n",
      "Class: B\n",
      "Num: 40\n",
      "Student: [14, 30, 32, 35, 41, 49, 63, 64, 66, 79, 83, 86, 88, 97, 114, 119, 122, 132, 134, 141, 149, 151, 158, 165, 169, 178, 190, 198, 200, 209, 213, 216, 226, 237, 245, 272, 296, 303, 306, 307]\n",
      "\n",
      "Class: C\n",
      "Num: 40\n",
      "Student: [21, 38, 44, 46, 51, 54, 62, 73, 75, 76, 84, 85, 99, 120, 138, 142, 143, 144, 150, 166, 183, 184, 192, 193, 195, 201, 205, 207, 211, 212, 217, 221, 222, 243, 244, 263, 264, 287, 299, 315]\n",
      "\n",
      "Class: D\n",
      "Num: 40\n",
      "Student: [5, 11, 17, 24, 39, 47, 50, 61, 67, 74, 90, 92, 93, 100, 106, 109, 116, 131, 136, 152, 155, 167, 170, 176, 177, 196, 199, 214, 218, 219, 227, 230, 231, 236, 239, 253, 257, 271, 294, 309]\n",
      "\n",
      "Class: E\n",
      "Num: 39\n",
      "Student: [4, 8, 12, 13, 19, 22, 27, 33, 43, 48, 55, 57, 59, 98, 104, 112, 121, 125, 130, 133, 137, 139, 153, 180, 189, 203, 234, 235, 240, 241, 249, 251, 254, 256, 266, 268, 276, 291, 302]\n",
      "\n",
      "Class: F\n",
      "Num: 40\n",
      "Student: [1, 6, 28, 29, 37, 40, 42, 45, 58, 70, 77, 91, 118, 128, 129, 135, 145, 146, 148, 156, 161, 162, 163, 174, 181, 188, 194, 202, 224, 229, 238, 246, 258, 260, 262, 265, 286, 290, 300, 310]\n",
      "\n",
      "Class: G\n",
      "Num: 40\n",
      "Student: [2, 7, 9, 10, 15, 16, 18, 26, 31, 36, 52, 71, 78, 80, 96, 101, 110, 126, 157, 159, 160, 175, 179, 182, 191, 197, 215, 242, 247, 248, 252, 261, 267, 275, 282, 283, 293, 305, 312, 318]\n",
      "\n",
      "Class: H\n",
      "Num: 40\n",
      "Student: [3, 20, 25, 34, 53, 60, 65, 69, 72, 81, 87, 95, 103, 105, 107, 108, 111, 154, 164, 168, 171, 187, 206, 208, 220, 223, 225, 232, 233, 250, 269, 270, 278, 279, 281, 284, 298, 301, 314, 317]\n",
      "\n"
     ]
    }
   ],
   "source": [
    "# 最適化結果の表示\n",
    "# 各 Class に割り当てられている生徒の List を辞書に格納\n",
    "C2Ss = {}\n",
    "for c in C:\n",
    "    C2Ss[c] = [s for s in S if x[s, c].value() == 1]\n",
    "\n",
    "for c, Ss in C2Ss.items():\n",
    "    print(f'Class: {c}')\n",
    "    print(f'Num: {len(Ss)}')\n",
    "    print(f'Student: {Ss}')\n",
    "    print()"
   ],
   "metadata": {
    "collapsed": false,
    "pycharm": {
     "name": "#%%\n"
    }
   }
  },
  {
   "cell_type": "markdown",
   "source": [
    "各 Class の学力の分布が偏っていないか検証。"
   ],
   "metadata": {
    "collapsed": false,
    "pycharm": {
     "name": "#%% md\n"
    }
   }
  },
  {
   "cell_type": "code",
   "execution_count": 29,
   "outputs": [
    {
     "data": {
      "text/plain": "   student_id  gender  leader_flag  support_flag  score  score_rank  \\\n0           1       0            0             0    335       109.0   \n1           2       1            0             0    379        38.0   \n2           3       0            0             0    350        79.0   \n3           4       0            0             0    301       172.0   \n4           5       1            0             0    317       147.0   \n\n  init_assigned_class assigned_class  \n0                   F              F  \n1                   G              G  \n2                   H              H  \n3                   E              E  \n4                   D              D  ",
      "text/html": "<div>\n<style scoped>\n    .dataframe tbody tr th:only-of-type {\n        vertical-align: middle;\n    }\n\n    .dataframe tbody tr th {\n        vertical-align: top;\n    }\n\n    .dataframe thead th {\n        text-align: right;\n    }\n</style>\n<table border=\"1\" class=\"dataframe\">\n  <thead>\n    <tr style=\"text-align: right;\">\n      <th></th>\n      <th>student_id</th>\n      <th>gender</th>\n      <th>leader_flag</th>\n      <th>support_flag</th>\n      <th>score</th>\n      <th>score_rank</th>\n      <th>init_assigned_class</th>\n      <th>assigned_class</th>\n    </tr>\n  </thead>\n  <tbody>\n    <tr>\n      <th>0</th>\n      <td>1</td>\n      <td>0</td>\n      <td>0</td>\n      <td>0</td>\n      <td>335</td>\n      <td>109.0</td>\n      <td>F</td>\n      <td>F</td>\n    </tr>\n    <tr>\n      <th>1</th>\n      <td>2</td>\n      <td>1</td>\n      <td>0</td>\n      <td>0</td>\n      <td>379</td>\n      <td>38.0</td>\n      <td>G</td>\n      <td>G</td>\n    </tr>\n    <tr>\n      <th>2</th>\n      <td>3</td>\n      <td>0</td>\n      <td>0</td>\n      <td>0</td>\n      <td>350</td>\n      <td>79.0</td>\n      <td>H</td>\n      <td>H</td>\n    </tr>\n    <tr>\n      <th>3</th>\n      <td>4</td>\n      <td>0</td>\n      <td>0</td>\n      <td>0</td>\n      <td>301</td>\n      <td>172.0</td>\n      <td>E</td>\n      <td>E</td>\n    </tr>\n    <tr>\n      <th>4</th>\n      <td>5</td>\n      <td>1</td>\n      <td>0</td>\n      <td>0</td>\n      <td>317</td>\n      <td>147.0</td>\n      <td>D</td>\n      <td>D</td>\n    </tr>\n  </tbody>\n</table>\n</div>"
     },
     "execution_count": 29,
     "metadata": {},
     "output_type": "execute_result"
    }
   ],
   "source": [
    "# 検証用の DataFrame の用意\n",
    "result_df2 = s_df.copy()\n",
    "\n",
    "# 各生徒がどの Class に割り当てられたかの情報を辞書に格納\n",
    "S2C = {s: c for s in S for c in C if x[s, c].value() == 1}\n",
    "\n",
    "# 生徒 Data に各生徒がどの Class に割り当てられたかの情報を結合\n",
    "result_df2['assigned_class'] = result_df2['student_id'].map(S2C)\n",
    "result_df2.head(5)"
   ],
   "metadata": {
    "collapsed": false,
    "pycharm": {
     "name": "#%%\n"
    }
   }
  },
  {
   "cell_type": "markdown",
   "source": [
    "各 Class の学力の分布を可視化"
   ],
   "metadata": {
    "collapsed": false,
    "pycharm": {
     "name": "#%% md\n"
    }
   }
  },
  {
   "cell_type": "code",
   "execution_count": 32,
   "outputs": [
    {
     "data": {
      "text/plain": "<Figure size 864x1440 with 8 Axes>",
      "image/png": "[encoded data removed]"
     },
     "metadata": {
      "needs_background": "light"
     },
     "output_type": "display_data"
    }
   ],
   "source": [
    "import matplotlib.pyplot as plt\n",
    "\n",
    "fig = plt.figure(figsize=(12, 20))\n",
    "for i, c in enumerate(C):\n",
    "    cls_df = result_df2[result_df2['assigned_class'] == c]\n",
    "    ax = fig.add_subplot(4,\n",
    "                         2,\n",
    "                         i + 1,\n",
    "                         xlabel='score',\n",
    "                         ylabel='num',\n",
    "                         xlim=(0, 500),\n",
    "                         ylim=(0, 20),\n",
    "                         title=f'Class: {c:s}')\n",
    "    ax.hist(cls_df['score'], bins=range(0, 500, 40))"
   ],
   "metadata": {
    "collapsed": false,
    "pycharm": {
     "name": "#%%\n"
    }
   }
  },
  {
   "cell_type": "code",
   "execution_count": null,
   "outputs": [],
   "source": [],
   "metadata": {
    "collapsed": false,
    "pycharm": {
     "name": "#%%\n"
    }
   }
  }
 ],
 "metadata": {
  "kernelspec": {
   "display_name": "Python 3",
   "language": "python",
   "name": "python3"
  },
  "language_info": {
   "codemirror_mode": {
    "name": "ipython",
    "version": 2
   },
   "file_extension": ".py",
   "mimetype": "text/x-python",
   "name": "python",
   "nbconvert_exporter": "python",
   "pygments_lexer": "ipython2",
   "version": "2.7.6"
  }
 },
 "nbformat": 4,
 "nbformat_minor": 0
}