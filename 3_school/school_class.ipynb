{
 "cells": [
  {
   "cell_type": "markdown",
   "source": [
    "## 学校の Class 編成"
   ],
   "metadata": {
    "collapsed": false,
    "pycharm": {
     "name": "#%% md\n"
    }
   }
  },
  {
   "cell_type": "markdown",
   "source": [
    "## Data の確認\n",
    "最初に、手もとの Data を確認していく。\n",
    "集計や統計値を確認することで Data の特性を理解し、どのような学年なのかつかむことが実務のこつ。"
   ],
   "metadata": {
    "collapsed": false,
    "pycharm": {
     "name": "#%% md\n"
    }
   }
  },
  {
   "cell_type": "code",
   "execution_count": 1,
   "outputs": [],
   "source": [
    "# 生徒 Data の読み込み\n",
    "import pandas as pd\n",
    "\n",
    "s_df = pd.read_csv('students.csv')"
   ],
   "metadata": {
    "collapsed": false,
    "pycharm": {
     "name": "#%%\n"
    }
   }
  },
  {
   "cell_type": "code",
   "execution_count": 2,
   "outputs": [
    {
     "data": {
      "text/plain": "318"
     },
     "execution_count": 2,
     "metadata": {},
     "output_type": "execute_result"
    }
   ],
   "source": [
    "# 行数の確認\n",
    "s_df.shape[0]"
   ],
   "metadata": {
    "collapsed": false,
    "pycharm": {
     "name": "#%%\n"
    }
   }
  },
  {
   "cell_type": "markdown",
   "source": [
    "生徒の数だと想像される。"
   ],
   "metadata": {
    "collapsed": false,
    "pycharm": {
     "name": "#%% md\n"
    }
   }
  },
  {
   "cell_type": "code",
   "execution_count": 3,
   "outputs": [
    {
     "data": {
      "text/plain": "   student_id  gender  leader_flag  support_flag  score\n0           1       0            0             0    335\n1           2       1            0             0    379\n2           3       0            0             0    350\n3           4       0            0             0    301\n4           5       1            0             0    317",
      "text/html": "<div>\n<style scoped>\n    .dataframe tbody tr th:only-of-type {\n        vertical-align: middle;\n    }\n\n    .dataframe tbody tr th {\n        vertical-align: top;\n    }\n\n    .dataframe thead th {\n        text-align: right;\n    }\n</style>\n<table border=\"1\" class=\"dataframe\">\n  <thead>\n    <tr style=\"text-align: right;\">\n      <th></th>\n      <th>student_id</th>\n      <th>gender</th>\n      <th>leader_flag</th>\n      <th>support_flag</th>\n      <th>score</th>\n    </tr>\n  </thead>\n  <tbody>\n    <tr>\n      <th>0</th>\n      <td>1</td>\n      <td>0</td>\n      <td>0</td>\n      <td>0</td>\n      <td>335</td>\n    </tr>\n    <tr>\n      <th>1</th>\n      <td>2</td>\n      <td>1</td>\n      <td>0</td>\n      <td>0</td>\n      <td>379</td>\n    </tr>\n    <tr>\n      <th>2</th>\n      <td>3</td>\n      <td>0</td>\n      <td>0</td>\n      <td>0</td>\n      <td>350</td>\n    </tr>\n    <tr>\n      <th>3</th>\n      <td>4</td>\n      <td>0</td>\n      <td>0</td>\n      <td>0</td>\n      <td>301</td>\n    </tr>\n    <tr>\n      <th>4</th>\n      <td>5</td>\n      <td>1</td>\n      <td>0</td>\n      <td>0</td>\n      <td>317</td>\n    </tr>\n  </tbody>\n</table>\n</div>"
     },
     "execution_count": 3,
     "metadata": {},
     "output_type": "execute_result"
    }
   ],
   "source": [
    "# どのような Data か確認する\n",
    "s_df.head()"
   ],
   "metadata": {
    "collapsed": false,
    "pycharm": {
     "name": "#%%\n"
    }
   }
  },
  {
   "cell_type": "markdown",
   "source": [
    "生徒 Data の概要\n",
    "\n",
    "| Column       | 説明                          |\n",
    "|--------------|-----------------------------|\n",
    "| student_id   | 1 ~ 318 で unique な整数値をとる    |\n",
    "| gender       | 0: 女性, 1: 男性                |\n",
    "| leader_flag  | 1: Leader 気質の生徒, 0: それ以外の生徒 |\n",
    "| support_flag | 1: 特別な支援が必要な生徒, 2: それ以外の生徒  |\n",
    "| score        | 0点 ~ 500点の間の整数値をとる          |"
   ],
   "metadata": {
    "collapsed": false,
    "pycharm": {
     "name": "#%% md\n"
    }
   }
  },
  {
   "cell_type": "code",
   "execution_count": 4,
   "outputs": [
    {
     "data": {
      "text/plain": "0        1\n1        2\n2        3\n3        4\n4        5\n      ... \n313    314\n314    315\n315    316\n316    317\n317    318\nName: student_id, Length: 318, dtype: int64"
     },
     "metadata": {},
     "output_type": "display_data"
    }
   ],
   "source": [
    "# student_id の Data を確認\n",
    "from IPython.display import display\n",
    "\n",
    "display(s_df['student_id'])"
   ],
   "metadata": {
    "collapsed": false,
    "pycharm": {
     "name": "#%%\n"
    }
   }
  },
  {
   "cell_type": "code",
   "execution_count": 5,
   "outputs": [
    {
     "data": {
      "text/plain": "318"
     },
     "execution_count": 5,
     "metadata": {},
     "output_type": "execute_result"
    }
   ],
   "source": [
    "# student_id の最大値を確認\n",
    "s_df['student_id'].max()"
   ],
   "metadata": {
    "collapsed": false,
    "pycharm": {
     "name": "#%%\n"
    }
   }
  },
  {
   "cell_type": "code",
   "execution_count": 6,
   "outputs": [
    {
     "data": {
      "text/plain": "1"
     },
     "execution_count": 6,
     "metadata": {},
     "output_type": "execute_result"
    }
   ],
   "source": [
    "# student_id の最小値を確認\n",
    "s_df['student_id'].min()"
   ],
   "metadata": {
    "collapsed": false,
    "pycharm": {
     "name": "#%%\n"
    }
   }
  },
  {
   "cell_type": "code",
   "execution_count": 7,
   "outputs": [
    {
     "data": {
      "text/plain": "True"
     },
     "execution_count": 7,
     "metadata": {},
     "output_type": "execute_result"
    }
   ],
   "source": [
    "# 1 ~ 318 までの番号が使用されていることを確認\n",
    "set(range(1, 319)) == set(s_df['student_id'].tolist())"
   ],
   "metadata": {
    "collapsed": false,
    "pycharm": {
     "name": "#%%\n"
    }
   }
  },
  {
   "cell_type": "code",
   "execution_count": 8,
   "outputs": [
    {
     "data": {
      "text/plain": "0    160\n1    158\nName: gender, dtype: int64"
     },
     "execution_count": 8,
     "metadata": {},
     "output_type": "execute_result"
    }
   ],
   "source": [
    "# gender の Data を確認\n",
    "s_df['gender'].value_counts()"
   ],
   "metadata": {
    "collapsed": false,
    "pycharm": {
     "name": "#%%\n"
    }
   }
  },
  {
   "cell_type": "markdown",
   "source": [
    "女性: 160名, 男性: 158名と確認できる"
   ],
   "metadata": {
    "collapsed": false,
    "pycharm": {
     "name": "#%% md\n"
    }
   }
  },
  {
   "cell_type": "code",
   "execution_count": 9,
   "outputs": [
    {
     "data": {
      "text/plain": "count    318.000000\nmean     303.644654\nstd       65.179995\nmin       88.000000\n25%      261.000000\n50%      310.000000\n75%      350.000000\nmax      485.000000\nName: score, dtype: float64"
     },
     "execution_count": 9,
     "metadata": {},
     "output_type": "execute_result"
    }
   ],
   "source": [
    "# score data の統計値を確認\n",
    "s_df['score'].describe()"
   ],
   "metadata": {
    "collapsed": false,
    "pycharm": {
     "name": "#%%\n"
    }
   }
  },
  {
   "cell_type": "code",
   "execution_count": 10,
   "outputs": [
    {
     "data": {
      "text/plain": "<AxesSubplot:>"
     },
     "execution_count": 10,
     "metadata": {},
     "output_type": "execute_result"
    },
    {
     "data": {
      "text/plain": "<Figure size 432x288 with 1 Axes>",
      "image/png": "[encoded data removed]"
     },
     "metadata": {
      "needs_background": "light"
     },
     "output_type": "display_data"
    }
   ],
   "source": [
    "# 学力の分布 Histogram を確認する\n",
    "s_df['score'].hist()"
   ],
   "metadata": {
    "collapsed": false,
    "pycharm": {
     "name": "#%%\n"
    }
   }
  },
  {
   "cell_type": "code",
   "execution_count": 11,
   "outputs": [
    {
     "data": {
      "text/plain": "0    301\n1     17\nName: leader_flag, dtype: int64"
     },
     "execution_count": 11,
     "metadata": {},
     "output_type": "execute_result"
    }
   ],
   "source": [
    "# Leader 気質の生徒数の確認\n",
    "s_df['leader_flag'].value_counts()"
   ],
   "metadata": {
    "collapsed": false,
    "pycharm": {
     "name": "#%%\n"
    }
   }
  },
  {
   "cell_type": "code",
   "execution_count": 12,
   "outputs": [
    {
     "data": {
      "text/plain": "0    314\n1      4\nName: support_flag, dtype: int64"
     },
     "execution_count": 12,
     "metadata": {},
     "output_type": "execute_result"
    }
   ],
   "source": [
    "# 特別な支援が必要な生徒数の確認\n",
    "s_df['support_flag'].value_counts()"
   ],
   "metadata": {
    "collapsed": false,
    "pycharm": {
     "name": "#%%\n"
    }
   }
  },
  {
   "cell_type": "code",
   "execution_count": 13,
   "outputs": [
    {
     "name": "stdout",
     "output_type": "stream",
     "text": [
      "3\n"
     ]
    }
   ],
   "source": [
    "# 特定 Pair（student_pairs.csv） の確認\n",
    "s_pair_df = pd.read_csv('student_pairs.csv')  # 特定 Pair data を読み込み\n",
    "print(s_pair_df.shape[0])  # Data 行数を表示"
   ],
   "metadata": {
    "collapsed": false,
    "pycharm": {
     "name": "#%%\n"
    }
   }
  },
  {
   "cell_type": "code",
   "execution_count": 14,
   "outputs": [
    {
     "data": {
      "text/plain": "   student_id1  student_id2\n0          118          189\n1           72           50\n2          314          233",
      "text/html": "<div>\n<style scoped>\n    .dataframe tbody tr th:only-of-type {\n        vertical-align: middle;\n    }\n\n    .dataframe tbody tr th {\n        vertical-align: top;\n    }\n\n    .dataframe thead th {\n        text-align: right;\n    }\n</style>\n<table border=\"1\" class=\"dataframe\">\n  <thead>\n    <tr style=\"text-align: right;\">\n      <th></th>\n      <th>student_id1</th>\n      <th>student_id2</th>\n    </tr>\n  </thead>\n  <tbody>\n    <tr>\n      <th>0</th>\n      <td>118</td>\n      <td>189</td>\n    </tr>\n    <tr>\n      <th>1</th>\n      <td>72</td>\n      <td>50</td>\n    </tr>\n    <tr>\n      <th>2</th>\n      <td>314</td>\n      <td>233</td>\n    </tr>\n  </tbody>\n</table>\n</div>"
     },
     "execution_count": 14,
     "metadata": {},
     "output_type": "execute_result"
    }
   ],
   "source": [
    "# Data の詳細を確認\n",
    "s_pair_df.head()"
   ],
   "metadata": {
    "collapsed": false,
    "pycharm": {
     "name": "#%%\n"
    }
   }
  },
  {
   "cell_type": "markdown",
   "source": [
    "## 数理 Modeling と実装"
   ],
   "metadata": {
    "collapsed": false,
    "pycharm": {
     "name": "#%% md\n"
    }
   }
  },
  {
   "cell_type": "code",
   "execution_count": 15,
   "outputs": [],
   "source": [
    "import pulp"
   ],
   "metadata": {
    "collapsed": false,
    "pycharm": {
     "name": "#%%\n"
    }
   }
  },
  {
   "cell_type": "code",
   "execution_count": 16,
   "outputs": [],
   "source": [
    "# 数理 Model の Instance 作成\n",
    "prob = pulp.LpProblem('ClassAssignmentProblem', pulp.LpMaximize)"
   ],
   "metadata": {
    "collapsed": false,
    "pycharm": {
     "name": "#%%\n"
    }
   }
  },
  {
   "cell_type": "markdown",
   "source": [
    "### 要件1). 学年の全生徒をそれぞれ１つの Class に割り当てる"
   ],
   "metadata": {
    "collapsed": false,
    "pycharm": {
     "name": "#%% md\n"
    }
   }
  },
  {
   "cell_type": "code",
   "execution_count": 17,
   "outputs": [],
   "source": [
    "# 生徒の List\n",
    "S = s_df['student_id'].tolist()"
   ],
   "metadata": {
    "collapsed": false,
    "pycharm": {
     "name": "#%%\n"
    }
   }
  },
  {
   "cell_type": "code",
   "execution_count": 18,
   "outputs": [],
   "source": [
    "# Class の List\n",
    "C = ['A', 'B', 'C', 'D', 'E', 'F', 'G', 'H']"
   ],
   "metadata": {
    "collapsed": false,
    "pycharm": {
     "name": "#%%\n"
    }
   }
  },
  {
   "cell_type": "code",
   "execution_count": 19,
   "outputs": [],
   "source": [
    "# 生徒と Class の Pair の List\n",
    "SC = [(s, c) for s in S for c in C]\n",
    "\n",
    "# 生徒をどの Class に割り当てるかを変数として定義\n",
    "x = pulp.LpVariable.dicts('x', SC, cat='Binary')"
   ],
   "metadata": {
    "collapsed": false,
    "pycharm": {
     "name": "#%%\n"
    }
   }
  },
  {
   "cell_type": "code",
   "execution_count": 20,
   "outputs": [],
   "source": [
    "# 1). 各生徒は１つの Class に割り当てる\n",
    "for s in S:\n",
    "    prob += pulp.lpSum(x[s, c] for c in C) == 1"
   ],
   "metadata": {
    "collapsed": false,
    "pycharm": {
     "name": "#%%\n"
    }
   }
  },
  {
   "cell_type": "markdown",
   "source": [
    "### 2). 各 Class の生徒の人数は 39人以上、40人以下とする"
   ],
   "metadata": {
    "collapsed": false,
    "pycharm": {
     "name": "#%% md\n"
    }
   }
  },
  {
   "cell_type": "code",
   "execution_count": 21,
   "outputs": [],
   "source": [
    "# 2). 各 Class の生徒の人数は 39人以上、40人以下とする\n",
    "for c in C:\n",
    "    prob += pulp.lpSum([x[s, c] for s in S]) >= 39\n",
    "    prob += pulp.lpSum([x[s, c] for s in S]) <=40"
   ],
   "metadata": {
    "collapsed": false,
    "pycharm": {
     "name": "#%%\n"
    }
   }
  },
  {
   "cell_type": "markdown",
   "source": [
    "### 3). 各 Class の男子生徒、女子生徒の人数を20人以下とする"
   ],
   "metadata": {
    "collapsed": false,
    "pycharm": {
     "name": "#%% md\n"
    }
   }
  },
  {
   "cell_type": "code",
   "execution_count": 22,
   "outputs": [],
   "source": [
    "# 男子生徒の List\n",
    "S_male = [row.student_id for row in s_df.itertuples() if row.gender == 1]\n",
    "\n",
    "# 女子生徒の List\n",
    "S_female = [row.student_id for row in s_df.itertuples() if row.gender == 0]\n",
    "\n",
    "# 3). 各 Class の男子生徒、女子生徒の人数は 20人以下とする\n",
    "for c in C:\n",
    "    prob += pulp.lpSum([x[s, c] for s in S_male]) <= 20\n",
    "    prob += pulp.lpSum([x[s, c] for s in S_female]) <= 20"
   ],
   "metadata": {
    "collapsed": false,
    "pycharm": {
     "name": "#%%\n"
    }
   }
  },
  {
   "cell_type": "markdown",
   "source": [
    "### 4). 各Class の学力試験の平均点は学年平均点±10点とする"
   ],
   "metadata": {
    "collapsed": false,
    "pycharm": {
     "name": "#%% md\n"
    }
   }
  },
  {
   "cell_type": "code",
   "execution_count": 23,
   "outputs": [],
   "source": [
    "# 学力を辞書表現に変換\n",
    "score = {row.student_id: row.score for row in s_df.itertuples()}\n",
    "\n",
    "# 平均点の算出\n",
    "score_mean = s_df['score'].mean()\n",
    "\n",
    "# (4) 各 Class の学力試験の平均点は学年平均点±10点とする\n",
    "for c in C:\n",
    "    prob += (score_mean - 10) * pulp.lpSum([x[s, c] for s in S]) <= pulp.lpSum(x[s, c] * score[s] for s in S)\n",
    "    prob += pulp.lpSum([x[s, c] * score[s] for s in S]) <= (score_mean + 10) * pulp.lpSum([x[s, c] for s in S])"
   ],
   "metadata": {
    "collapsed": false,
    "pycharm": {
     "name": "#%%\n"
    }
   }
  },
  {
   "cell_type": "markdown",
   "source": [
    "### 5).各 Class に Leader 気質の生徒を２人以上割り当てる"
   ],
   "metadata": {
    "collapsed": false,
    "pycharm": {
     "name": "#%% md\n"
    }
   }
  },
  {
   "cell_type": "code",
   "execution_count": 24,
   "outputs": [],
   "source": [
    "# Leader 気質の生徒の集合\n",
    "S_leader = [row.student_id for row in s_df.itertuples() if row.leader_flag == 1]\n",
    "\n",
    "# (5)各 Class に Leader 気質の生徒を２人以上割り当てる\n",
    "for c in C:\n",
    "    prob += pulp.lpSum([x[s, c] for s in S_leader]) >= 2"
   ],
   "metadata": {
    "collapsed": false,
    "pycharm": {
     "name": "#%%\n"
    }
   }
  },
  {
   "cell_type": "markdown",
   "source": [
    "### 6). 特別な支援が必要な生徒は各 Class に１人以下とする"
   ],
   "metadata": {
    "collapsed": false,
    "pycharm": {
     "name": "#%% md\n"
    }
   }
  },
  {
   "cell_type": "code",
   "execution_count": 25,
   "outputs": [],
   "source": [
    "# 特別な支援が必要な生徒の集合\n",
    "S_support = [row.student_id for row in s_df.itertuples() if row.support_flag == 1]\n",
    "\n",
    "# (6)特別な支援が必要な生徒は各 Class に１人以下とする\n",
    "for c in C:\n",
    "    prob += pulp.lpSum([x[s, c] for s in S_support]) <= 1"
   ],
   "metadata": {
    "collapsed": false,
    "pycharm": {
     "name": "#%%\n"
    }
   }
  },
  {
   "cell_type": "markdown",
   "source": [
    "### 7). 特定 Pair の生徒は同一 Class に割り当てない"
   ],
   "metadata": {
    "collapsed": false,
    "pycharm": {
     "name": "#%% md\n"
    }
   }
  },
  {
   "cell_type": "code",
   "execution_count": 26,
   "outputs": [],
   "source": [
    "# 生徒の特定 Pair list\n",
    "SS = [(row.student_id1, row.student_id2) for row in s_pair_df.itertuples()]\n",
    "\n",
    "# (7)特定 Pair の生徒は同一　Class に割り当てない\n",
    "for s1, s2 in SS:\n",
    "    for c in C:\n",
    "        prob += x[s1, c] + x[s2, c] <= 1"
   ],
   "metadata": {
    "collapsed": false,
    "pycharm": {
     "name": "#%%\n"
    }
   }
  },
  {
   "cell_type": "code",
   "execution_count": 27,
   "outputs": [
    {
     "name": "stdout",
     "output_type": "stream",
     "text": [
      "1\n",
      "Optimal\n"
     ]
    }
   ],
   "source": [
    "# 求解\n",
    "status = prob.solve()\n",
    "print(status)\n",
    "print(pulp.LpStatus[status])"
   ],
   "metadata": {
    "collapsed": false,
    "pycharm": {
     "name": "#%%\n"
    }
   }
  },
  {
   "cell_type": "code",
   "execution_count": 28,
   "outputs": [
    {
     "name": "stdout",
     "output_type": "stream",
     "text": [
      "Class: A\n",
      "Num: 39\n",
      "Student: [9, 10, 25, 26, 34, 35, 47, 56, 73, 75, 98, 102, 103, 106, 108, 114, 118, 122, 123, 126, 139, 143, 156, 176, 199, 201, 216, 235, 248, 257, 270, 278, 280, 284, 288, 294, 297, 301, 314]\n",
      "\n",
      "Class: B\n",
      "Num: 40\n",
      "Student: [4, 11, 17, 29, 44, 50, 89, 100, 110, 111, 117, 120, 127, 132, 135, 144, 147, 150, 157, 188, 189, 190, 212, 218, 230, 238, 239, 241, 245, 252, 262, 269, 271, 274, 281, 282, 287, 302, 306, 309]\n",
      "\n",
      "Class: C\n",
      "Num: 40\n",
      "Student: [14, 31, 36, 37, 54, 58, 59, 61, 69, 72, 77, 78, 81, 86, 112, 119, 133, 142, 160, 161, 171, 186, 187, 192, 205, 209, 213, 217, 229, 236, 253, 256, 266, 273, 290, 295, 304, 310, 312, 318]\n",
      "\n",
      "Class: D\n",
      "Num: 40\n",
      "Student: [2, 16, 21, 33, 38, 63, 68, 71, 85, 97, 109, 134, 140, 146, 158, 159, 168, 177, 180, 194, 198, 210, 220, 221, 225, 231, 240, 242, 246, 254, 268, 275, 277, 279, 283, 286, 292, 293, 311, 317]\n",
      "\n",
      "Class: E\n",
      "Num: 40\n",
      "Student: [5, 6, 20, 22, 24, 28, 30, 32, 42, 53, 60, 70, 79, 92, 94, 105, 128, 129, 131, 154, 169, 173, 175, 178, 181, 182, 200, 204, 208, 215, 222, 233, 251, 261, 264, 285, 289, 299, 303, 307]\n",
      "\n",
      "Class: F\n",
      "Num: 39\n",
      "Student: [3, 7, 18, 27, 41, 45, 46, 52, 55, 62, 66, 67, 80, 82, 95, 96, 107, 113, 115, 121, 125, 130, 151, 152, 153, 164, 172, 183, 207, 214, 223, 228, 249, 255, 260, 265, 296, 300, 316]\n",
      "\n",
      "Class: G\n",
      "Num: 40\n",
      "Student: [1, 8, 12, 13, 15, 23, 40, 43, 48, 49, 57, 74, 91, 93, 141, 149, 155, 163, 166, 170, 174, 184, 191, 195, 196, 211, 219, 226, 227, 232, 234, 244, 247, 250, 258, 263, 276, 305, 308, 315]\n",
      "\n",
      "Class: H\n",
      "Num: 40\n",
      "Student: [19, 39, 51, 64, 65, 76, 83, 84, 87, 88, 90, 99, 101, 104, 116, 124, 136, 137, 138, 145, 148, 162, 165, 167, 179, 185, 193, 197, 202, 203, 206, 224, 237, 243, 259, 267, 272, 291, 298, 313]\n",
      "\n"
     ]
    }
   ],
   "source": [
    "# 最適化結果の表示\n",
    "# 各 Class に割り当てられている生徒の list を dict に格納\n",
    "C2Ss = {}\n",
    "for c in C:\n",
    "    C2Ss[c] = [s for s in S if x[s, c].value() == 1]\n",
    "\n",
    "\n",
    "for c, Ss in C2Ss.items():\n",
    "    print('Class:', c)\n",
    "    print('Num:', len(Ss))\n",
    "    print('Student:', Ss)\n",
    "    print()"
   ],
   "metadata": {
    "collapsed": false,
    "pycharm": {
     "name": "#%%\n"
    }
   }
  },
  {
   "cell_type": "markdown",
   "source": [
    "## 数理 Model の検証"
   ],
   "metadata": {
    "collapsed": false,
    "pycharm": {
     "name": "#%% md\n"
    }
   }
  },
  {
   "cell_type": "markdown",
   "source": [
    "### 解が要件を満たしているかどうかを確認する"
   ],
   "metadata": {
    "collapsed": false,
    "pycharm": {
     "name": "#%% md\n"
    }
   }
  },
  {
   "cell_type": "markdown",
   "source": [
    "#### 要件(1)学年の全生徒をそれぞれ１つの Class に割り当てる"
   ],
   "metadata": {
    "collapsed": false,
    "pycharm": {
     "name": "#%% md\n"
    }
   }
  },
  {
   "cell_type": "code",
   "execution_count": 29,
   "outputs": [],
   "source": [
    "# 検証: 生徒が複数の Class に割り当てられていないか確認する。\n",
    "for s in S:\n",
    "    # 割り当てられた Class を取得\n",
    "    assigned_class = [x[s, c].value() for c in C if x[s, c].value() == 1]\n",
    "\n",
    "    # １つの Class に割り当てられているか確認\n",
    "    if len(assigned_class) != 1:\n",
    "        print('error:', s, assigned_class)"
   ],
   "metadata": {
    "collapsed": false,
    "pycharm": {
     "name": "#%%\n"
    }
   }
  },
  {
   "cell_type": "markdown",
   "source": [
    "error が表示されないため、生徒が複数の Class に割り当てられていないことを確認。"
   ],
   "metadata": {
    "collapsed": false,
    "pycharm": {
     "name": "#%% md\n"
    }
   }
  },
  {
   "cell_type": "markdown",
   "source": [
    "以降の検証をしやすくする為、各生徒がどの Class に割り当てられているか、の情報を生徒 Data に格納していく。"
   ],
   "metadata": {
    "collapsed": false,
    "pycharm": {
     "name": "#%% md\n"
    }
   }
  },
  {
   "cell_type": "code",
   "execution_count": 30,
   "outputs": [
    {
     "data": {
      "text/plain": "   student_id  gender  leader_flag  support_flag  score assigned_class\n0           1       0            0             0    335              G\n1           2       1            0             0    379              D\n2           3       0            0             0    350              F\n3           4       0            0             0    301              B\n4           5       1            0             0    317              E",
      "text/html": "<div>\n<style scoped>\n    .dataframe tbody tr th:only-of-type {\n        vertical-align: middle;\n    }\n\n    .dataframe tbody tr th {\n        vertical-align: top;\n    }\n\n    .dataframe thead th {\n        text-align: right;\n    }\n</style>\n<table border=\"1\" class=\"dataframe\">\n  <thead>\n    <tr style=\"text-align: right;\">\n      <th></th>\n      <th>student_id</th>\n      <th>gender</th>\n      <th>leader_flag</th>\n      <th>support_flag</th>\n      <th>score</th>\n      <th>assigned_class</th>\n    </tr>\n  </thead>\n  <tbody>\n    <tr>\n      <th>0</th>\n      <td>1</td>\n      <td>0</td>\n      <td>0</td>\n      <td>0</td>\n      <td>335</td>\n      <td>G</td>\n    </tr>\n    <tr>\n      <th>1</th>\n      <td>2</td>\n      <td>1</td>\n      <td>0</td>\n      <td>0</td>\n      <td>379</td>\n      <td>D</td>\n    </tr>\n    <tr>\n      <th>2</th>\n      <td>3</td>\n      <td>0</td>\n      <td>0</td>\n      <td>0</td>\n      <td>350</td>\n      <td>F</td>\n    </tr>\n    <tr>\n      <th>3</th>\n      <td>4</td>\n      <td>0</td>\n      <td>0</td>\n      <td>0</td>\n      <td>301</td>\n      <td>B</td>\n    </tr>\n    <tr>\n      <th>4</th>\n      <td>5</td>\n      <td>1</td>\n      <td>0</td>\n      <td>0</td>\n      <td>317</td>\n      <td>E</td>\n    </tr>\n  </tbody>\n</table>\n</div>"
     },
     "execution_count": 30,
     "metadata": {},
     "output_type": "execute_result"
    }
   ],
   "source": [
    "# 検証用の DataFrame の用意\n",
    "result_df = s_df.copy()  # s_df.copy() で入力 Data を変更せずにそのまま残しておくことで、後々不具合が入った場合など調査しやすい。\n",
    "\n",
    "# 各生徒がどの Class に割り当てられたかの情報を辞書に格納\n",
    "S2C = {s: c for s in S for c in C if x[s, c].value() == 1}\n",
    "\n",
    "# 生徒 Data に各生徒がどの Class に割り当てられたかの情報を結合\n",
    "result_df['assigned_class'] = result_df['student_id'].map(S2C)\n",
    "result_df.head()"
   ],
   "metadata": {
    "collapsed": false,
    "pycharm": {
     "name": "#%%\n"
    }
   }
  },
  {
   "cell_type": "markdown",
   "source": [
    "#### 要件(2) 各 Class の生徒の人数は 39人以上、40人以下とする"
   ],
   "metadata": {
    "collapsed": false,
    "pycharm": {
     "name": "#%% md\n"
    }
   }
  },
  {
   "cell_type": "code",
   "execution_count": 31,
   "outputs": [
    {
     "data": {
      "text/plain": "assigned_class\nA    39\nB    40\nC    40\nD    40\nE    40\nF    39\nG    40\nH    40\nName: student_id, dtype: int64"
     },
     "execution_count": 31,
     "metadata": {},
     "output_type": "execute_result"
    }
   ],
   "source": [
    "# 検証: assigned_class 毎の student_id の数を確認する\n",
    "result_df.groupby('assigned_class')['student_id'].count()\n",
    "\n",
    "# 別の書き方:\n",
    "# result_df.groupby('assigned_class').count()['student_id']"
   ],
   "metadata": {
    "collapsed": false,
    "pycharm": {
     "name": "#%%\n"
    }
   }
  },
  {
   "cell_type": "markdown",
   "source": [
    "39, 40人であることが確認とれた。"
   ],
   "metadata": {
    "collapsed": false,
    "pycharm": {
     "name": "#%% md\n"
    }
   }
  },
  {
   "cell_type": "markdown",
   "source": [
    "#### 各 Class の男子生徒、女子生徒の人数は 20人以下とする"
   ],
   "metadata": {
    "collapsed": false,
    "pycharm": {
     "name": "#%% md\n"
    }
   }
  },
  {
   "cell_type": "code",
   "execution_count": 32,
   "outputs": [
    {
     "data": {
      "text/plain": "assigned_class  gender\nA               0         20\n                1         19\nB               0         20\n                1         20\nC               0         20\n                1         20\nD               0         20\n                1         20\nE               0         20\n                1         20\nF               0         20\n                1         19\nG               0         20\n                1         20\nH               0         20\n                1         20\nName: student_id, dtype: int64"
     },
     "execution_count": 32,
     "metadata": {},
     "output_type": "execute_result"
    }
   ],
   "source": [
    "# 検証: 各 Class 毎の男女の student_id の数を確認する\n",
    "result_df.groupby(['assigned_class', 'gender'])['student_id'].count()\n",
    "\n",
    "# 別の書き方:\n",
    "# result_df.groupby(['assigned_class', 'gender']).count()['student_id']"
   ],
   "metadata": {
    "collapsed": false,
    "pycharm": {
     "name": "#%%\n"
    }
   }
  },
  {
   "cell_type": "markdown",
   "source": [
    "各 Class の男女の人数が 20人、または 19人で、Balance がとれていることを確認。"
   ],
   "metadata": {
    "collapsed": false,
    "pycharm": {
     "name": "#%% md\n"
    }
   }
  },
  {
   "cell_type": "markdown",
   "source": [
    "#### 要件(4) 各 Class の学力試験の平均点は学年平均点 ±10点とする"
   ],
   "metadata": {
    "collapsed": false,
    "pycharm": {
     "name": "#%% md\n"
    }
   }
  },
  {
   "cell_type": "code",
   "execution_count": 33,
   "outputs": [
    {
     "data": {
      "text/plain": "                     score       diff\nassigned_class                       \nA               312.333333   8.733333\nB               295.475000  -8.125000\nC               293.650000  -9.950000\nD               313.600000  10.000000\nE               312.950000   9.350000\nF               294.538462  -9.061538\nG               312.550000   8.950000\nH               294.050000  -9.550000",
      "text/html": "<div>\n<style scoped>\n    .dataframe tbody tr th:only-of-type {\n        vertical-align: middle;\n    }\n\n    .dataframe tbody tr th {\n        vertical-align: top;\n    }\n\n    .dataframe thead th {\n        text-align: right;\n    }\n</style>\n<table border=\"1\" class=\"dataframe\">\n  <thead>\n    <tr style=\"text-align: right;\">\n      <th></th>\n      <th>score</th>\n      <th>diff</th>\n    </tr>\n    <tr>\n      <th>assigned_class</th>\n      <th></th>\n      <th></th>\n    </tr>\n  </thead>\n  <tbody>\n    <tr>\n      <th>A</th>\n      <td>312.333333</td>\n      <td>8.733333</td>\n    </tr>\n    <tr>\n      <th>B</th>\n      <td>295.475000</td>\n      <td>-8.125000</td>\n    </tr>\n    <tr>\n      <th>C</th>\n      <td>293.650000</td>\n      <td>-9.950000</td>\n    </tr>\n    <tr>\n      <th>D</th>\n      <td>313.600000</td>\n      <td>10.000000</td>\n    </tr>\n    <tr>\n      <th>E</th>\n      <td>312.950000</td>\n      <td>9.350000</td>\n    </tr>\n    <tr>\n      <th>F</th>\n      <td>294.538462</td>\n      <td>-9.061538</td>\n    </tr>\n    <tr>\n      <th>G</th>\n      <td>312.550000</td>\n      <td>8.950000</td>\n    </tr>\n    <tr>\n      <th>H</th>\n      <td>294.050000</td>\n      <td>-9.550000</td>\n    </tr>\n  </tbody>\n</table>\n</div>"
     },
     "execution_count": 33,
     "metadata": {},
     "output_type": "execute_result"
    }
   ],
   "source": [
    "# 検証: 平均点303.6点と各 Class の平均点を比較する\n",
    "result_df.groupby('assigned_class')['score'].mean()\n",
    "\n",
    "# 別の書き方\n",
    "# result_df.groupby('assigned_class').mean()['score']\n",
    "\n",
    "check_s = result_df.groupby('assigned_class')['score'].mean()\n",
    "check_df = pd.DataFrame(check_s)\n",
    "check_df['diff'] = check_df['score'] - 303.6\n",
    "check_df"
   ],
   "metadata": {
    "collapsed": false,
    "pycharm": {
     "name": "#%%\n"
    }
   }
  },
  {
   "cell_type": "markdown",
   "source": [
    "各 Class の平均点が全体の平均点303.6点の ±10点以内に収まっていて、大きな偏りがないことが確認できる。"
   ],
   "metadata": {
    "collapsed": false,
    "pycharm": {
     "name": "#%% md\n"
    }
   }
  },
  {
   "cell_type": "markdown",
   "source": [
    "#### 要件(5) 各 Class に Leader 気質の生徒を２人以上割り当てる"
   ],
   "metadata": {
    "collapsed": false,
    "pycharm": {
     "name": "#%% md\n"
    }
   }
  },
  {
   "cell_type": "code",
   "execution_count": 34,
   "outputs": [
    {
     "data": {
      "text/plain": "assigned_class\nA    2\nB    2\nC    2\nD    2\nE    2\nF    2\nG    3\nH    2\nName: leader_flag, dtype: int64"
     },
     "execution_count": 34,
     "metadata": {},
     "output_type": "execute_result"
    }
   ],
   "source": [
    "# 検証: 各 Class の Leader_flag の合計数を確認する\n",
    "result_df.groupby(['assigned_class'])['leader_flag'].sum()\n",
    "\n",
    "# 別の書き方\n",
    "# result_df.groupby(['assigned_class']).sum()['leader_flag']"
   ],
   "metadata": {
    "collapsed": false,
    "pycharm": {
     "name": "#%%\n"
    }
   }
  },
  {
   "cell_type": "markdown",
   "source": [
    "各 Class に２人以上、Leader気質の生徒が割り当てられていることを確認"
   ],
   "metadata": {
    "collapsed": false,
    "pycharm": {
     "name": "#%% md\n"
    }
   }
  },
  {
   "cell_type": "markdown",
   "source": [
    "#### 要件(6) 特別な支援が必要な生徒は各 Class に1人以下とする"
   ],
   "metadata": {
    "collapsed": false,
    "pycharm": {
     "name": "#%% md\n"
    }
   }
  },
  {
   "cell_type": "code",
   "execution_count": 35,
   "outputs": [
    {
     "data": {
      "text/plain": "assigned_class\nA    1\nB    0\nC    1\nD    0\nE    0\nF    1\nG    1\nH    0\nName: support_flag, dtype: int64"
     },
     "execution_count": 35,
     "metadata": {},
     "output_type": "execute_result"
    }
   ],
   "source": [
    "# 検証: 各 Class の support_flag の合計数を確認する\n",
    "result_df.groupby('assigned_class')['support_flag'].sum()\n",
    "\n",
    "# 別の書き方\n",
    "# result_df.groupby('assigned_class').sum()['support_flag']"
   ],
   "metadata": {
    "collapsed": false,
    "pycharm": {
     "name": "#%%\n"
    }
   }
  },
  {
   "cell_type": "markdown",
   "source": [
    "特別な支援が必要な生徒が 各 Class に１名以下であることを確認"
   ],
   "metadata": {
    "collapsed": false,
    "pycharm": {
     "name": "#%% md\n"
    }
   }
  },
  {
   "cell_type": "markdown",
   "source": [
    "#### 要件(7) 特定 Pair の生徒は同一 Class に割り当てない"
   ],
   "metadata": {
    "collapsed": false,
    "pycharm": {
     "name": "#%% md\n"
    }
   }
  },
  {
   "cell_type": "code",
   "execution_count": 36,
   "outputs": [
    {
     "name": "stdout",
     "output_type": "stream",
     "text": [
      "case: 0\n",
      "s1: 118-A\n",
      "s2: 189-B\n",
      "\n",
      "case: 1\n",
      "s1: 72-C\n",
      "s2: 50-B\n",
      "\n",
      "case: 2\n",
      "s1: 314-A\n",
      "s2: 233-E\n",
      "\n"
     ]
    }
   ],
   "source": [
    "# 検証: それぞれの特定 Pair の　student_id と Class の組み合わせを表示して別の Class に割り当てられているか確認する\n",
    "for i, (s1, s2) in enumerate(SS):  # enumerate() を使用して Index も取得する\n",
    "    print('case:', i)\n",
    "    c1 = S2C[s1]\n",
    "    c2 = S2C[s2]\n",
    "    print(f\"s1: {s1}-{c1}\")\n",
    "    print(f\"s2: {s2}-{c2}\")\n",
    "    print('')"
   ],
   "metadata": {
    "collapsed": false,
    "pycharm": {
     "name": "#%%\n"
    }
   }
  },
  {
   "cell_type": "markdown",
   "source": [
    "３組の特定 Pair が Class が被っていないことを確認。"
   ],
   "metadata": {
    "collapsed": false,
    "pycharm": {
     "name": "#%% md\n"
    }
   }
  },
  {
   "cell_type": "markdown",
   "source": [
    "## 設定した制約の見直しと課題の洗い出し"
   ],
   "metadata": {
    "collapsed": false,
    "pycharm": {
     "name": "#%% md\n"
    }
   }
  },
  {
   "cell_type": "markdown",
   "source": [
    "統計的な観点から言うと**「要件(4) 各 Class の学力試験の平均点は学年平均 ±10点とする」** という要件は **その分布** については考慮しておらず各 Class の分布はまったく異なる形状を持つ可能性がある為、確認してみる。"
   ],
   "metadata": {
    "collapsed": false,
    "pycharm": {
     "name": "#%% md\n"
    }
   }
  },
  {
   "cell_type": "code",
   "execution_count": 37,
   "outputs": [],
   "source": [
    "import matplotlib.pyplot as plt"
   ],
   "metadata": {
    "collapsed": false,
    "pycharm": {
     "name": "#%%\n"
    }
   }
  },
  {
   "cell_type": "code",
   "execution_count": 38,
   "outputs": [
    {
     "data": {
      "text/plain": "<Figure size 864x1440 with 8 Axes>",
      "image/png": "[encoded data removed]"
     },
     "metadata": {
      "needs_background": "light"
     },
     "output_type": "display_data"
    }
   ],
   "source": [
    "fig = plt.figure(figsize=(12, 20))\n",
    "for i, c in enumerate(C):\n",
    "    cls_df = result_df[result_df['assigned_class'] == c]\n",
    "    ax = fig.add_subplot(4,\n",
    "                         2,\n",
    "                         i + 1,\n",
    "                         xlabel='score',\n",
    "                         ylabel='num',\n",
    "                         xlim=(0, 500),\n",
    "                         ylim=(0, 20),\n",
    "                         title='Class :{:s}'.format(c))\n",
    "    ax.hist(cls_df['score'], bins=range(0, 500, 40))"
   ],
   "metadata": {
    "collapsed": false,
    "pycharm": {
     "name": "#%%\n"
    }
   }
  },
  {
   "cell_type": "markdown",
   "source": [
    "Class よっては、平均点付近の人数が少ない分布になっており不自然。実際にこのような Class 編成は現実の現場では採用されないと想定される。\n",
    "\n",
    "- 実務家自身の想像力の欠如。\n",
    "- 扱っている問題特有の暗黙知や Data の特性により、何度も要件変更が発生。\n",
    "\n",
    "上記の理由で最適化 Project では度々、このような問題が生じる。"
   ],
   "metadata": {
    "collapsed": false,
    "pycharm": {
     "name": "#%% md\n"
    }
   }
  },
  {
   "cell_type": "markdown",
   "source": [
    "### 制約の改善と数理最適化 Model の修正"
   ],
   "metadata": {
    "collapsed": false,
    "pycharm": {
     "name": "#%% md\n"
    }
   }
  },
  {
   "cell_type": "markdown",
   "source": [
    "一度、最適化のことは忘れて、現場ではどのような方法で Class 編成を行なうか考えてみる。\n",
    "\n",
    "1. 学力順で生徒を各 Class に割り当てる。\n",
    "2. Class 間で配置換えを繰り返し、要件を満たすように Class を再編する\n",
    "\n",
    "\n",
    "上記の手順から Class 編成の第１案として学力の分布が偏らないものを作成し、そこから配置換えを繰り返すことで要件を Clear する Class を編成することができる。"
   ],
   "metadata": {
    "collapsed": false,
    "pycharm": {
     "name": "#%% md\n"
    }
   }
  },
  {
   "cell_type": "markdown",
   "source": [
    "上記の考え方を最適化に導入してみる。"
   ],
   "metadata": {
    "collapsed": false,
    "pycharm": {
     "name": "#%% md\n"
    }
   }
  },
  {
   "cell_type": "code",
   "execution_count": 39,
   "outputs": [
    {
     "data": {
      "text/plain": "   student_id  gender  leader_flag  support_flag  score  score_rank  \\\n0           1       0            0             0    335       109.0   \n1           2       1            0             0    379        38.0   \n2           3       0            0             0    350        79.0   \n3           4       0            0             0    301       172.0   \n4           5       1            0             0    317       147.0   \n\n  init_assigned_class  \n0                   F  \n1                   G  \n2                   H  \n3                   E  \n4                   D  ",
      "text/html": "<div>\n<style scoped>\n    .dataframe tbody tr th:only-of-type {\n        vertical-align: middle;\n    }\n\n    .dataframe tbody tr th {\n        vertical-align: top;\n    }\n\n    .dataframe thead th {\n        text-align: right;\n    }\n</style>\n<table border=\"1\" class=\"dataframe\">\n  <thead>\n    <tr style=\"text-align: right;\">\n      <th></th>\n      <th>student_id</th>\n      <th>gender</th>\n      <th>leader_flag</th>\n      <th>support_flag</th>\n      <th>score</th>\n      <th>score_rank</th>\n      <th>init_assigned_class</th>\n    </tr>\n  </thead>\n  <tbody>\n    <tr>\n      <th>0</th>\n      <td>1</td>\n      <td>0</td>\n      <td>0</td>\n      <td>0</td>\n      <td>335</td>\n      <td>109.0</td>\n      <td>F</td>\n    </tr>\n    <tr>\n      <th>1</th>\n      <td>2</td>\n      <td>1</td>\n      <td>0</td>\n      <td>0</td>\n      <td>379</td>\n      <td>38.0</td>\n      <td>G</td>\n    </tr>\n    <tr>\n      <th>2</th>\n      <td>3</td>\n      <td>0</td>\n      <td>0</td>\n      <td>0</td>\n      <td>350</td>\n      <td>79.0</td>\n      <td>H</td>\n    </tr>\n    <tr>\n      <th>3</th>\n      <td>4</td>\n      <td>0</td>\n      <td>0</td>\n      <td>0</td>\n      <td>301</td>\n      <td>172.0</td>\n      <td>E</td>\n    </tr>\n    <tr>\n      <th>4</th>\n      <td>5</td>\n      <td>1</td>\n      <td>0</td>\n      <td>0</td>\n      <td>317</td>\n      <td>147.0</td>\n      <td>D</td>\n    </tr>\n  </tbody>\n</table>\n</div>"
     },
     "execution_count": 39,
     "metadata": {},
     "output_type": "execute_result"
    }
   ],
   "source": [
    "# 初期 Class 編成の Data を作成\n",
    "# 学力をもとに順位を付与\n",
    "s_df['score_rank'] = s_df['score'].rank(ascending=False, method='first')\n",
    "\n",
    "# 学力順に Class 編成し、init_assigned_class Column を作成\n",
    "class_dic = {0: 'A', 1: 'B', 2: 'C', 3: 'D', 4: 'E', 5: 'F', 6: 'G', 7: 'H'}\n",
    "s_df['init_assigned_class'] = s_df['score_rank'].map(lambda x: x % 8).map(class_dic)\n",
    "\n",
    "s_df.head()"
   ],
   "metadata": {
    "collapsed": false,
    "pycharm": {
     "name": "#%%\n"
    }
   }
  },
  {
   "cell_type": "code",
   "execution_count": 40,
   "outputs": [],
   "source": [
    "# init_flag を作成\n",
    "init_flag = {(s, c): 0 for s in S for c in C}\n",
    "\n",
    "for row in s_df.itertuples():\n",
    "    init_flag[row.student_id, row.init_assigned_class] = 1"
   ],
   "metadata": {
    "collapsed": false,
    "pycharm": {
     "name": "#%%\n"
    }
   }
  },
  {
   "cell_type": "markdown",
   "source": [
    "最適化計算を行なう前に初期 Class 編成の学力の分布を確認する"
   ],
   "metadata": {
    "collapsed": false,
    "pycharm": {
     "name": "#%% md\n"
    }
   }
  },
  {
   "cell_type": "code",
   "execution_count": 41,
   "outputs": [
    {
     "data": {
      "text/plain": "<Figure size 864x1440 with 8 Axes>",
      "image/png": "[encoded data removed]"
     },
     "metadata": {
      "needs_background": "light"
     },
     "output_type": "display_data"
    }
   ],
   "source": [
    "fig = plt.figure(figsize=(12, 20))\n",
    "for i, c in enumerate(C):\n",
    "    cls_df = s_df[s_df['init_assigned_class'] == c]\n",
    "    ax = fig.add_subplot(4,\n",
    "                         2,\n",
    "                         i + 1,\n",
    "                         xlabel='score',\n",
    "                         ylabel='num',\n",
    "                         xlim=(0, 500),\n",
    "                         ylim=(0, 20),\n",
    "                         title=f\"Class: {c:s}\")\n",
    "    ax.hist(cls_df['score'], bins=range(0, 500, 40))"
   ],
   "metadata": {
    "collapsed": false,
    "pycharm": {
     "name": "#%%\n"
    }
   }
  }
 ],
 "metadata": {
  "kernelspec": {
   "display_name": "Python 3",
   "language": "python",
   "name": "python3"
  },
  "language_info": {
   "codemirror_mode": {
    "name": "ipython",
    "version": 2
   },
   "file_extension": ".py",
   "mimetype": "text/x-python",
   "name": "python",
   "nbconvert_exporter": "python",
   "pygments_lexer": "ipython2",
   "version": "2.7.6"
  }
 },
 "nbformat": 4,
 "nbformat_minor": 0
}